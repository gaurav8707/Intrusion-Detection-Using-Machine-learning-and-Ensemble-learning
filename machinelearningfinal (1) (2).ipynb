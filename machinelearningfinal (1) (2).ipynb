{
  "cells": [
    {
      "cell_type": "code",
      "execution_count": null,
      "id": "a1a0bc9c",
      "metadata": {
        "id": "a1a0bc9c"
      },
      "outputs": [],
      "source": [
        "import pandas as pd\n",
        "import numpy as np\n",
        "import seaborn as sns\n",
        "import sklearn\n",
        "import warnings; warnings.simplefilter('ignore')\n",
        "from sklearn.preprocessing import StandardScaler"
      ]
    },
    {
      "cell_type": "code",
      "execution_count": null,
      "id": "a0750059",
      "metadata": {
        "id": "a0750059"
      },
      "outputs": [],
      "source": [
        "data_train=pd.read_csv(\"/content/drive/MyDrive/Colab Notebooks/training.csv\")\n",
        "     \n",
        "\n",
        "data_test=pd.read_csv(\"/content/drive/MyDrive/Colab Notebooks/testing.csv\")"
      ]
    },
    {
      "cell_type": "code",
      "execution_count": null,
      "id": "ba528fa4",
      "metadata": {
        "colab": {
          "base_uri": "https://localhost:8080/"
        },
        "id": "ba528fa4",
        "outputId": "79f8dd8e-fc9f-414f-aa11-573593a2523c"
      },
      "outputs": [
        {
          "data": {
            "text/plain": [
              "pkSeqID              0\n",
              "proto                0\n",
              "saddr                0\n",
              "sport                0\n",
              "daddr                0\n",
              "dport                0\n",
              "seq                  0\n",
              "stddev               0\n",
              "N_IN_Conn_P_SrcIP    0\n",
              "min                  0\n",
              "state_number         0\n",
              "mean                 0\n",
              "N_IN_Conn_P_DstIP    0\n",
              "drate                0\n",
              "srate                0\n",
              "max                  0\n",
              "attack               0\n",
              "category             0\n",
              "subcategory          0\n",
              "dtype: int64"
            ]
          },
          "execution_count": 3,
          "metadata": {},
          "output_type": "execute_result"
        }
      ],
      "source": [
        "train.isnull().sum()\n"
      ]
    },
    {
      "cell_type": "markdown",
      "source": [
        "EDA"
      ],
      "metadata": {
        "id": "8F7yiXBn9Uby"
      },
      "id": "8F7yiXBn9Uby"
    },
    {
      "cell_type": "code",
      "execution_count": null,
      "id": "9edd1682",
      "metadata": {
        "id": "9edd1682"
      },
      "outputs": [],
      "source": [
        "data_train.drop([\"pkSeqID\",\"seq\",\"subcategory\"], axis=1, inplace=True)\n",
        "     \n",
        "\n",
        "data_test.drop([\"pkSeqID\",\"seq\",\"subcategory\"], axis=1, inplace=True)"
      ]
    },
    {
      "cell_type": "code",
      "execution_count": null,
      "id": "007c5835",
      "metadata": {
        "colab": {
          "base_uri": "https://localhost:8080/"
        },
        "id": "007c5835",
        "outputId": "0b341687-b30a-4ef1-bbc1-c8efc82815d4"
      },
      "outputs": [
        {
          "data": {
            "text/plain": [
              "proto       object\n",
              "saddr       object\n",
              "sport       object\n",
              "daddr       object\n",
              "dport       object\n",
              "category    object\n",
              "dtype: object"
            ]
          },
          "execution_count": 5,
          "metadata": {},
          "output_type": "execute_result"
        }
      ],
      "source": [
        "data_train.dtypes[data_train.dtypes=='object']\n"
      ]
    },
    {
      "cell_type": "code",
      "execution_count": null,
      "id": "f7b2f754",
      "metadata": {
        "colab": {
          "base_uri": "https://localhost:8080/"
        },
        "id": "f7b2f754",
        "outputId": "334d6e11-ceae-47f9-ae99-a472743a5a23"
      },
      "outputs": [
        {
          "data": {
            "text/plain": [
              "192.168.100.147              761360\n",
              "192.168.100.148              738642\n",
              "192.168.100.150              712260\n",
              "192.168.100.149              711466\n",
              "192.168.100.3                  6609\n",
              "192.168.100.5                  4107\n",
              "192.168.100.6                   272\n",
              "192.168.100.7                    34\n",
              "192.168.100.4                    17\n",
              "192.168.100.1                    14\n",
              "192.168.100.27                    9\n",
              "192.168.100.46                    8\n",
              "fe80::250:56ff:febe:254           5\n",
              "192.168.100.55                    3\n",
              "fe80::2c6a:ff9b:7e14:166a         2\n",
              "fe80::250:56ff:febe:c038          2\n",
              "fe80::c0c0:aa20:45b9:bdd9         2\n",
              "fe80::250:56ff:febe:89ee          2\n",
              "fe80::250:56ff:febe:26db          2\n",
              "fe80::250:56ff:febe:e9d9          1\n",
              "Name: saddr, dtype: int64"
            ]
          },
          "execution_count": 6,
          "metadata": {},
          "output_type": "execute_result"
        }
      ],
      "source": [
        "data_train['saddr'].value_counts()\n"
      ]
    },
    {
      "cell_type": "code",
      "execution_count": null,
      "id": "4f701226",
      "metadata": {
        "colab": {
          "base_uri": "https://localhost:8080/"
        },
        "id": "4f701226",
        "outputId": "4f1a070d-364f-4203-b07a-a533c9acc78a"
      },
      "outputs": [
        {
          "data": {
            "text/plain": [
              "0x0303    7156\n",
              "80        3220\n",
              "1822       878\n",
              "60541      869\n",
              "1216       868\n",
              "          ... \n",
              "39364       31\n",
              "18992       30\n",
              "39305       30\n",
              "0x000d      10\n",
              "0x0011       8\n",
              "Name: sport, Length: 65541, dtype: int64"
            ]
          },
          "execution_count": 7,
          "metadata": {},
          "output_type": "execute_result"
        }
      ],
      "source": [
        "data_train['sport'].value_counts()\n"
      ]
    },
    {
      "cell_type": "code",
      "execution_count": null,
      "id": "0a213300",
      "metadata": {
        "colab": {
          "base_uri": "https://localhost:8080/"
        },
        "id": "0a213300",
        "outputId": "817f9dbf-5e36-48d9-9812-037544929e66"
      },
      "outputs": [
        {
          "data": {
            "text/plain": [
              "192.168.100.3      1900562\n",
              "192.168.100.5       361192\n",
              "192.168.100.7       332161\n",
              "192.168.100.6       329679\n",
              "192.168.100.150       3040\n",
              "                    ...   \n",
              "205.251.199.148          1\n",
              "192.33.14.30             1\n",
              "192.55.83.30             1\n",
              "205.251.194.201          1\n",
              "205.251.198.119          1\n",
              "Name: daddr, Length: 81, dtype: int64"
            ]
          },
          "execution_count": 8,
          "metadata": {},
          "output_type": "execute_result"
        }
      ],
      "source": [
        "data_train['daddr'].value_counts()\n",
        "     \n"
      ]
    },
    {
      "cell_type": "code",
      "execution_count": null,
      "id": "1503bf47",
      "metadata": {
        "colab": {
          "base_uri": "https://localhost:8080/"
        },
        "id": "1503bf47",
        "outputId": "f4d049ad-ef52-473a-aa5c-d26e00c5046a"
      },
      "outputs": [
        {
          "data": {
            "text/plain": [
              "80       2858794\n",
              "1           5379\n",
              "3306        3757\n",
              "53           275\n",
              "-1           166\n",
              "          ...   \n",
              "40344          1\n",
              "3754           1\n",
              "6459           1\n",
              "26822          1\n",
              "61804          1\n",
              "Name: dport, Length: 6906, dtype: int64"
            ]
          },
          "execution_count": 9,
          "metadata": {},
          "output_type": "execute_result"
        }
      ],
      "source": [
        "data_train['dport'].value_counts()\n"
      ]
    },
    {
      "cell_type": "code",
      "execution_count": null,
      "id": "1922d2d5",
      "metadata": {
        "colab": {
          "base_uri": "https://localhost:8080/"
        },
        "id": "1922d2d5",
        "outputId": "7ecdea7b-71c3-4d50-cc74-93aac4e2ec1e"
      },
      "outputs": [
        {
          "data": {
            "text/plain": [
              "DDoS              1541315\n",
              "DoS               1320148\n",
              "Reconnaissance      72919\n",
              "Normal                370\n",
              "Theft                  65\n",
              "Name: category, dtype: int64"
            ]
          },
          "execution_count": 10,
          "metadata": {},
          "output_type": "execute_result"
        }
      ],
      "source": [
        "data_train['category'].value_counts()\n"
      ]
    },
    {
      "cell_type": "code",
      "execution_count": null,
      "id": "c86e7769",
      "metadata": {
        "id": "c86e7769"
      },
      "outputs": [],
      "source": [
        "indexNames = data_train[data_train['category']=='Theft'].index\n",
        "data_train.drop(indexNames , inplace=True)"
      ]
    },
    {
      "cell_type": "code",
      "execution_count": null,
      "id": "b8ce8943",
      "metadata": {
        "id": "b8ce8943"
      },
      "outputs": [],
      "source": [
        "\n",
        "data_train['sport']=data_train['sport'].replace(['0x0303'],'771') \n",
        "data_train['sport']=data_train['sport'].replace(['0x0011'],'17')\n",
        "data_train['sport']=data_train['sport'].replace(['0x000d'],'13')\n",
        "data_train['sport']=data_train['sport'].replace(['0x0008'],'8')\n",
        "     "
      ]
    },
    {
      "cell_type": "code",
      "execution_count": null,
      "id": "f28d81b8",
      "metadata": {
        "id": "f28d81b8"
      },
      "outputs": [],
      "source": [
        "data_train[\"sport\"] = data_train[\"sport\"].astype(str).astype(int)\n",
        "     \n",
        "\n",
        "data_test['sport']=data_test['sport'].replace(['0x0303'],'771') \n",
        "data_test['sport']=data_test['sport'].replace(['0x0011'],'17')\n",
        "data_test['sport']=data_test['sport'].replace(['0x000d'],'13')\n",
        "data_test['sport']=data_test['sport'].replace(['0x0008'],'8')\n",
        "     \n",
        "\n",
        "data_test[\"sport\"] = data_test[\"sport\"].astype(str).astype(int)\n",
        "     \n",
        "\n",
        "data_train['dport']=data_train.dport.apply(lambda x: int(x,16) if len(x)>1 and x[1]==\"x\" else int(x))\n",
        "     \n",
        "\n",
        "data_test['dport']=data_test.dport.apply(lambda x: int(x,16) if len(x)>1 and x[1]==\"x\" else int(x))"
      ]
    },
    {
      "cell_type": "code",
      "execution_count": null,
      "id": "3e3b5fd4",
      "metadata": {
        "colab": {
          "base_uri": "https://localhost:8080/"
        },
        "id": "3e3b5fd4",
        "outputId": "478b9481-d193-4145-e969-7dc3c1a584be"
      },
      "outputs": [
        {
          "data": {
            "text/plain": [
              " 80       2858794\n",
              " 1           5379\n",
              " 3306        3757\n",
              " 53           275\n",
              "-1            163\n",
              "           ...   \n",
              " 40064          1\n",
              " 40027          1\n",
              " 40344          1\n",
              " 3754           1\n",
              " 61804          1\n",
              "Name: dport, Length: 6778, dtype: int64"
            ]
          },
          "execution_count": 14,
          "metadata": {},
          "output_type": "execute_result"
        }
      ],
      "source": [
        "data_train['dport'].value_counts()\n"
      ]
    },
    {
      "cell_type": "code",
      "execution_count": null,
      "id": "cf5d17b9",
      "metadata": {
        "colab": {
          "base_uri": "https://localhost:8080/"
        },
        "id": "cf5d17b9",
        "outputId": "28aa4637-7ed6-4f21-8f0c-9d1d9b618b01"
      },
      "outputs": [
        {
          "data": {
            "text/plain": [
              "771      7203\n",
              "80       3220\n",
              "1822      878\n",
              "60541     869\n",
              "1216      868\n",
              "         ... \n",
              "7813       31\n",
              "56775      31\n",
              "39364      31\n",
              "39305      30\n",
              "18992      30\n",
              "Name: sport, Length: 65537, dtype: int64"
            ]
          },
          "execution_count": 15,
          "metadata": {},
          "output_type": "execute_result"
        }
      ],
      "source": [
        "data_train['sport'].value_counts()\n"
      ]
    },
    {
      "cell_type": "markdown",
      "source": [
        "One hot encoding"
      ],
      "metadata": {
        "id": "fCtVi60f9X-R"
      },
      "id": "fCtVi60f9X-R"
    },
    {
      "cell_type": "code",
      "execution_count": null,
      "id": "ccc09adf",
      "metadata": {
        "id": "ccc09adf"
      },
      "outputs": [],
      "source": [
        "\n",
        "from sklearn.preprocessing import LabelEncoder\n",
        "le = LabelEncoder()\n",
        "data_train[\"saddr_enc\"]= le.fit_transform(data_train.saddr)\n",
        "data_train[\"daddr_enc\"]= le.fit_transform(data_train.daddr)\n",
        "data_train[\"proto_enc\"]= le.fit_transform(data_train.proto)\n",
        "data_train[\"category_enc\"]= le.fit_transform(data_train.category)\n",
        "data_train.drop(['saddr','daddr','proto','category'], axis=1, inplace=True)"
      ]
    },
    {
      "cell_type": "code",
      "execution_count": null,
      "id": "75a32165",
      "metadata": {
        "id": "75a32165"
      },
      "outputs": [],
      "source": [
        "\n",
        "from sklearn.preprocessing import LabelEncoder\n",
        "le = LabelEncoder()\n",
        "data_test[\"saddr_enc\"]= le.fit_transform(data_test.saddr)\n",
        "data_test[\"daddr_enc\"]= le.fit_transform(data_test.daddr)\n",
        "data_test[\"proto_enc\"]= le.fit_transform(data_test.proto)\n",
        "data_test[\"category_enc\"]= le.fit_transform(data_test.category)\n",
        "data_test.drop(['saddr','daddr','proto','category'], axis=1, inplace=True)"
      ]
    },
    {
      "cell_type": "code",
      "execution_count": null,
      "id": "7b097122",
      "metadata": {
        "colab": {
          "base_uri": "https://localhost:8080/",
          "height": 270
        },
        "id": "7b097122",
        "outputId": "476b5958-6209-4a2b-e81b-dfa2eeeb5b32"
      },
      "outputs": [
        {
          "data": {
            "text/html": [
              "\n",
              "  <div id=\"df-9214cf75-e223-4fa5-8629-1ca0a20ef9cd\">\n",
              "    <div class=\"colab-df-container\">\n",
              "      <div>\n",
              "<style scoped>\n",
              "    .dataframe tbody tr th:only-of-type {\n",
              "        vertical-align: middle;\n",
              "    }\n",
              "\n",
              "    .dataframe tbody tr th {\n",
              "        vertical-align: top;\n",
              "    }\n",
              "\n",
              "    .dataframe thead th {\n",
              "        text-align: right;\n",
              "    }\n",
              "</style>\n",
              "<table border=\"1\" class=\"dataframe\">\n",
              "  <thead>\n",
              "    <tr style=\"text-align: right;\">\n",
              "      <th></th>\n",
              "      <th>sport</th>\n",
              "      <th>dport</th>\n",
              "      <th>stddev</th>\n",
              "      <th>N_IN_Conn_P_SrcIP</th>\n",
              "      <th>min</th>\n",
              "      <th>state_number</th>\n",
              "      <th>mean</th>\n",
              "      <th>N_IN_Conn_P_DstIP</th>\n",
              "      <th>drate</th>\n",
              "      <th>srate</th>\n",
              "      <th>max</th>\n",
              "      <th>attack</th>\n",
              "      <th>saddr_enc</th>\n",
              "      <th>daddr_enc</th>\n",
              "      <th>proto_enc</th>\n",
              "      <th>category_enc</th>\n",
              "    </tr>\n",
              "  </thead>\n",
              "  <tbody>\n",
              "    <tr>\n",
              "      <th>0</th>\n",
              "      <td>6551</td>\n",
              "      <td>80</td>\n",
              "      <td>1.900363</td>\n",
              "      <td>100</td>\n",
              "      <td>0.000000</td>\n",
              "      <td>4</td>\n",
              "      <td>2.687519</td>\n",
              "      <td>100</td>\n",
              "      <td>0.0</td>\n",
              "      <td>0.494549</td>\n",
              "      <td>4.031619</td>\n",
              "      <td>1</td>\n",
              "      <td>4</td>\n",
              "      <td>15</td>\n",
              "      <td>4</td>\n",
              "      <td>0</td>\n",
              "    </tr>\n",
              "    <tr>\n",
              "      <th>1</th>\n",
              "      <td>5532</td>\n",
              "      <td>80</td>\n",
              "      <td>0.078003</td>\n",
              "      <td>38</td>\n",
              "      <td>3.856930</td>\n",
              "      <td>3</td>\n",
              "      <td>3.934927</td>\n",
              "      <td>100</td>\n",
              "      <td>0.0</td>\n",
              "      <td>0.256493</td>\n",
              "      <td>4.012924</td>\n",
              "      <td>1</td>\n",
              "      <td>4</td>\n",
              "      <td>15</td>\n",
              "      <td>3</td>\n",
              "      <td>0</td>\n",
              "    </tr>\n",
              "    <tr>\n",
              "      <th>2</th>\n",
              "      <td>27165</td>\n",
              "      <td>80</td>\n",
              "      <td>0.268666</td>\n",
              "      <td>100</td>\n",
              "      <td>2.974100</td>\n",
              "      <td>3</td>\n",
              "      <td>3.341429</td>\n",
              "      <td>100</td>\n",
              "      <td>0.0</td>\n",
              "      <td>0.294880</td>\n",
              "      <td>3.609205</td>\n",
              "      <td>1</td>\n",
              "      <td>1</td>\n",
              "      <td>15</td>\n",
              "      <td>3</td>\n",
              "      <td>0</td>\n",
              "    </tr>\n",
              "    <tr>\n",
              "      <th>3</th>\n",
              "      <td>48719</td>\n",
              "      <td>80</td>\n",
              "      <td>1.823185</td>\n",
              "      <td>63</td>\n",
              "      <td>0.000000</td>\n",
              "      <td>4</td>\n",
              "      <td>3.222832</td>\n",
              "      <td>63</td>\n",
              "      <td>0.0</td>\n",
              "      <td>0.461435</td>\n",
              "      <td>4.942302</td>\n",
              "      <td>1</td>\n",
              "      <td>4</td>\n",
              "      <td>15</td>\n",
              "      <td>4</td>\n",
              "      <td>1</td>\n",
              "    </tr>\n",
              "    <tr>\n",
              "      <th>4</th>\n",
              "      <td>22461</td>\n",
              "      <td>80</td>\n",
              "      <td>0.822418</td>\n",
              "      <td>100</td>\n",
              "      <td>2.979995</td>\n",
              "      <td>4</td>\n",
              "      <td>3.983222</td>\n",
              "      <td>100</td>\n",
              "      <td>0.0</td>\n",
              "      <td>1.002999</td>\n",
              "      <td>4.994452</td>\n",
              "      <td>1</td>\n",
              "      <td>1</td>\n",
              "      <td>15</td>\n",
              "      <td>4</td>\n",
              "      <td>0</td>\n",
              "    </tr>\n",
              "  </tbody>\n",
              "</table>\n",
              "</div>\n",
              "      <button class=\"colab-df-convert\" onclick=\"convertToInteractive('df-9214cf75-e223-4fa5-8629-1ca0a20ef9cd')\"\n",
              "              title=\"Convert this dataframe to an interactive table.\"\n",
              "              style=\"display:none;\">\n",
              "        \n",
              "  <svg xmlns=\"http://www.w3.org/2000/svg\" height=\"24px\"viewBox=\"0 0 24 24\"\n",
              "       width=\"24px\">\n",
              "    <path d=\"M0 0h24v24H0V0z\" fill=\"none\"/>\n",
              "    <path d=\"M18.56 5.44l.94 2.06.94-2.06 2.06-.94-2.06-.94-.94-2.06-.94 2.06-2.06.94zm-11 1L8.5 8.5l.94-2.06 2.06-.94-2.06-.94L8.5 2.5l-.94 2.06-2.06.94zm10 10l.94 2.06.94-2.06 2.06-.94-2.06-.94-.94-2.06-.94 2.06-2.06.94z\"/><path d=\"M17.41 7.96l-1.37-1.37c-.4-.4-.92-.59-1.43-.59-.52 0-1.04.2-1.43.59L10.3 9.45l-7.72 7.72c-.78.78-.78 2.05 0 2.83L4 21.41c.39.39.9.59 1.41.59.51 0 1.02-.2 1.41-.59l7.78-7.78 2.81-2.81c.8-.78.8-2.07 0-2.86zM5.41 20L4 18.59l7.72-7.72 1.47 1.35L5.41 20z\"/>\n",
              "  </svg>\n",
              "      </button>\n",
              "      \n",
              "  <style>\n",
              "    .colab-df-container {\n",
              "      display:flex;\n",
              "      flex-wrap:wrap;\n",
              "      gap: 12px;\n",
              "    }\n",
              "\n",
              "    .colab-df-convert {\n",
              "      background-color: #E8F0FE;\n",
              "      border: none;\n",
              "      border-radius: 50%;\n",
              "      cursor: pointer;\n",
              "      display: none;\n",
              "      fill: #1967D2;\n",
              "      height: 32px;\n",
              "      padding: 0 0 0 0;\n",
              "      width: 32px;\n",
              "    }\n",
              "\n",
              "    .colab-df-convert:hover {\n",
              "      background-color: #E2EBFA;\n",
              "      box-shadow: 0px 1px 2px rgba(60, 64, 67, 0.3), 0px 1px 3px 1px rgba(60, 64, 67, 0.15);\n",
              "      fill: #174EA6;\n",
              "    }\n",
              "\n",
              "    [theme=dark] .colab-df-convert {\n",
              "      background-color: #3B4455;\n",
              "      fill: #D2E3FC;\n",
              "    }\n",
              "\n",
              "    [theme=dark] .colab-df-convert:hover {\n",
              "      background-color: #434B5C;\n",
              "      box-shadow: 0px 1px 3px 1px rgba(0, 0, 0, 0.15);\n",
              "      filter: drop-shadow(0px 1px 2px rgba(0, 0, 0, 0.3));\n",
              "      fill: #FFFFFF;\n",
              "    }\n",
              "  </style>\n",
              "\n",
              "      <script>\n",
              "        const buttonEl =\n",
              "          document.querySelector('#df-9214cf75-e223-4fa5-8629-1ca0a20ef9cd button.colab-df-convert');\n",
              "        buttonEl.style.display =\n",
              "          google.colab.kernel.accessAllowed ? 'block' : 'none';\n",
              "\n",
              "        async function convertToInteractive(key) {\n",
              "          const element = document.querySelector('#df-9214cf75-e223-4fa5-8629-1ca0a20ef9cd');\n",
              "          const dataTable =\n",
              "            await google.colab.kernel.invokeFunction('convertToInteractive',\n",
              "                                                     [key], {});\n",
              "          if (!dataTable) return;\n",
              "\n",
              "          const docLinkHtml = 'Like what you see? Visit the ' +\n",
              "            '<a target=\"_blank\" href=https://colab.research.google.com/notebooks/data_table.ipynb>data table notebook</a>'\n",
              "            + ' to learn more about interactive tables.';\n",
              "          element.innerHTML = '';\n",
              "          dataTable['output_type'] = 'display_data';\n",
              "          await google.colab.output.renderOutput(dataTable, element);\n",
              "          const docLink = document.createElement('div');\n",
              "          docLink.innerHTML = docLinkHtml;\n",
              "          element.appendChild(docLink);\n",
              "        }\n",
              "      </script>\n",
              "    </div>\n",
              "  </div>\n",
              "  "
            ],
            "text/plain": [
              "   sport  dport    stddev  N_IN_Conn_P_SrcIP       min  state_number  \\\n",
              "0   6551     80  1.900363                100  0.000000             4   \n",
              "1   5532     80  0.078003                 38  3.856930             3   \n",
              "2  27165     80  0.268666                100  2.974100             3   \n",
              "3  48719     80  1.823185                 63  0.000000             4   \n",
              "4  22461     80  0.822418                100  2.979995             4   \n",
              "\n",
              "       mean  N_IN_Conn_P_DstIP  drate     srate       max  attack  saddr_enc  \\\n",
              "0  2.687519                100    0.0  0.494549  4.031619       1          4   \n",
              "1  3.934927                100    0.0  0.256493  4.012924       1          4   \n",
              "2  3.341429                100    0.0  0.294880  3.609205       1          1   \n",
              "3  3.222832                 63    0.0  0.461435  4.942302       1          4   \n",
              "4  3.983222                100    0.0  1.002999  4.994452       1          1   \n",
              "\n",
              "   daddr_enc  proto_enc  category_enc  \n",
              "0         15          4             0  \n",
              "1         15          3             0  \n",
              "2         15          3             0  \n",
              "3         15          4             1  \n",
              "4         15          4             0  "
            ]
          },
          "execution_count": 18,
          "metadata": {},
          "output_type": "execute_result"
        }
      ],
      "source": [
        "data_train.head()\n"
      ]
    },
    {
      "cell_type": "code",
      "execution_count": null,
      "id": "806c1e6c",
      "metadata": {
        "colab": {
          "base_uri": "https://localhost:8080/"
        },
        "id": "806c1e6c",
        "outputId": "e60909c3-44c6-434a-b376-bb2b84bd5d64"
      },
      "outputs": [
        {
          "data": {
            "text/plain": [
              "0    1541315\n",
              "1    1320148\n",
              "3      72919\n",
              "2        370\n",
              "Name: category_enc, dtype: int64"
            ]
          },
          "execution_count": 19,
          "metadata": {},
          "output_type": "execute_result"
        }
      ],
      "source": [
        "data_train['category_enc'].value_counts()\n"
      ]
    },
    {
      "cell_type": "code",
      "execution_count": null,
      "id": "e5835947",
      "metadata": {
        "id": "e5835947"
      },
      "outputs": [],
      "source": [
        "y_train=data_train[\"category_enc\"]\n"
      ]
    },
    {
      "cell_type": "code",
      "execution_count": null,
      "id": "c715e37c",
      "metadata": {
        "id": "c715e37c"
      },
      "outputs": [],
      "source": [
        "y_test=data_test[\"category_enc\"]\n"
      ]
    },
    {
      "cell_type": "code",
      "execution_count": null,
      "id": "d75c0525",
      "metadata": {
        "id": "d75c0525"
      },
      "outputs": [],
      "source": [
        "from sklearn.preprocessing import StandardScaler\n",
        "scaler=StandardScaler()\n",
        "features = data_train.iloc[:,:-1]\n",
        "cols=features.columns\n",
        "scaled_features= scaler.fit_transform(features)\n",
        "data_train= pd.DataFrame(scaled_features,columns=cols)"
      ]
    },
    {
      "cell_type": "code",
      "execution_count": null,
      "id": "c5d69137",
      "metadata": {
        "id": "c5d69137"
      },
      "outputs": [],
      "source": [
        "\n",
        "from sklearn.preprocessing import StandardScaler\n",
        "scaler=StandardScaler()\n",
        "features = data_test.iloc[:,:-1]\n",
        "cols=features.columns\n",
        "scaled_features= scaler.fit_transform(features)\n",
        "data_test= pd.DataFrame(scaled_features,columns=cols)"
      ]
    },
    {
      "cell_type": "code",
      "execution_count": null,
      "id": "8182e0f1",
      "metadata": {
        "id": "8182e0f1"
      },
      "outputs": [],
      "source": [
        "import imblearn\n",
        "from imblearn.over_sampling import RandomOverSampler\n",
        "samp_strat= { 0 : 1541315, 1 : 1320148, 2 : 72919, 3 : 72919}\n",
        "random_over= RandomOverSampler(sampling_strategy=samp_strat,random_state=1)\n",
        "Xres,yres = random_over.fit_resample(data_train,y_train)"
      ]
    },
    {
      "cell_type": "code",
      "execution_count": null,
      "id": "2e6596d7",
      "metadata": {
        "colab": {
          "base_uri": "https://localhost:8080/"
        },
        "id": "2e6596d7",
        "outputId": "69be7f1b-59ca-42ef-c158-9df1c2741d2b"
      },
      "outputs": [
        {
          "data": {
            "text/plain": [
              "0    1541315\n",
              "1    1320148\n",
              "3      72919\n",
              "2      72919\n",
              "Name: category_enc, dtype: int64"
            ]
          },
          "execution_count": 25,
          "metadata": {},
          "output_type": "execute_result"
        }
      ],
      "source": [
        "pd.Series(yres).value_counts()\n"
      ]
    },
    {
      "cell_type": "code",
      "execution_count": null,
      "id": "0d1b2dbc",
      "metadata": {
        "id": "0d1b2dbc"
      },
      "outputs": [],
      "source": [
        "import imblearn\n",
        "from imblearn.under_sampling import RandomUnderSampler\n",
        "samp_strat= { 0 : 72919, 1 : 72919, 2 : 72919, 3 : 72919}\n",
        "random_under= RandomUnderSampler(sampling_strategy=samp_strat,random_state=1)\n",
        "Xres1,yres1 = random_under.fit_resample(Xres,yres)\n"
      ]
    },
    {
      "cell_type": "code",
      "execution_count": null,
      "id": "d2d4a007",
      "metadata": {
        "colab": {
          "base_uri": "https://localhost:8080/"
        },
        "id": "d2d4a007",
        "outputId": "4374edd3-8ee7-4039-cce9-378658d57b99"
      },
      "outputs": [
        {
          "data": {
            "text/plain": [
              "0    72919\n",
              "1    72919\n",
              "2    72919\n",
              "3    72919\n",
              "Name: category_enc, dtype: int64"
            ]
          },
          "execution_count": 27,
          "metadata": {},
          "output_type": "execute_result"
        }
      ],
      "source": [
        "pd.Series(yres1).value_counts()\n"
      ]
    },
    {
      "cell_type": "markdown",
      "source": [
        "Detection Using Logistic Regression"
      ],
      "metadata": {
        "id": "HD8__J5h96XT"
      },
      "id": "HD8__J5h96XT"
    },
    {
      "cell_type": "code",
      "execution_count": null,
      "id": "661f2fa9",
      "metadata": {
        "colab": {
          "base_uri": "https://localhost:8080/"
        },
        "id": "661f2fa9",
        "outputId": "60bb53f0-7e6c-4909-ce76-002b9016587a"
      },
      "outputs": [
        {
          "name": "stdout",
          "output_type": "stream",
          "text": [
            "15.704656839370728 seconds\n",
            "\n"
          ]
        },
        {
          "data": {
            "text/plain": [
              "0.975627806816091"
            ]
          },
          "execution_count": 28,
          "metadata": {},
          "output_type": "execute_result"
        }
      ],
      "source": [
        "\n",
        "from sklearn.linear_model import LogisticRegression\n",
        "import time\n",
        "start = time.time()\n",
        "logisticRegr = LogisticRegression()\n",
        "logisticRegr.fit(Xres1, yres1)\n",
        "pred= logisticRegr.predict(data_test)\n",
        "score = logisticRegr.score(data_test, y_test)\n",
        "end = time.time()\n",
        "print(end - start, \"seconds\\n\")\n",
        "score"
      ]
    },
    {
      "cell_type": "code",
      "execution_count": null,
      "id": "9bdcd61b",
      "metadata": {
        "colab": {
          "base_uri": "https://localhost:8080/",
          "height": 88
        },
        "id": "9bdcd61b",
        "outputId": "82694a31-5575-4e2d-c43d-44df4ae930ae"
      },
      "outputs": [
        {
          "data": {
            "application/vnd.google.colaboratory.intrinsic+json": {
              "type": "string"
            },
            "text/plain": [
              "'              precision    recall  f1-score   support\\n\\n           0       0.97      0.99      0.98    385309\\n           1       0.99      0.96      0.98    330112\\n           2       1.00      1.00      1.00       107\\n           3       0.81      0.95      0.88     18163\\n           4       0.00      0.00      0.00        14\\n\\n    accuracy                           0.98    733705\\n   macro avg       0.76      0.78      0.77    733705\\nweighted avg       0.98      0.98      0.98    733705\\n'"
            ]
          },
          "execution_count": 29,
          "metadata": {},
          "output_type": "execute_result"
        }
      ],
      "source": [
        "from sklearn.metrics import classification_report,confusion_matrix\n",
        "classification_report(y_test,pred)"
      ]
    },
    {
      "cell_type": "code",
      "execution_count": null,
      "id": "f795d7d2",
      "metadata": {
        "colab": {
          "base_uri": "https://localhost:8080/"
        },
        "id": "f795d7d2",
        "outputId": "03461de3-3043-4954-ea27-8c3a48d72dc6"
      },
      "outputs": [
        {
          "data": {
            "text/plain": [
              "array([[379901,   1570,      0,   3838,      0],\n",
              "       [ 11451, 318487,      0,    174,      0],\n",
              "       [     0,      0,    107,      0,      0],\n",
              "       [   404,    431,      0,  17328,      0],\n",
              "       [     0,     13,      0,      1,      0]])"
            ]
          },
          "execution_count": 30,
          "metadata": {},
          "output_type": "execute_result"
        }
      ],
      "source": [
        "confusion_matrix(y_test,pred)\n"
      ]
    },
    {
      "cell_type": "code",
      "execution_count": null,
      "id": "d132e15e",
      "metadata": {
        "colab": {
          "base_uri": "https://localhost:8080/"
        },
        "id": "d132e15e",
        "outputId": "5be2ba69-13d0-415a-c586-7411549696ab"
      },
      "outputs": [
        {
          "data": {
            "text/plain": [
              "0.975627806816091"
            ]
          },
          "execution_count": 31,
          "metadata": {},
          "output_type": "execute_result"
        }
      ],
      "source": [
        "\n",
        "from sklearn.metrics import f1_score\n",
        "f1_score(y_test,pred,average='micro')"
      ]
    },
    {
      "cell_type": "code",
      "execution_count": null,
      "id": "efaa57ce",
      "metadata": {
        "colab": {
          "base_uri": "https://localhost:8080/"
        },
        "id": "efaa57ce",
        "outputId": "65e9ac1c-7a27-4bf3-9366-f0e0ba78553b"
      },
      "outputs": [
        {
          "data": {
            "text/plain": [
              "0.975627806816091"
            ]
          },
          "execution_count": 32,
          "metadata": {},
          "output_type": "execute_result"
        }
      ],
      "source": [
        "\n",
        "from sklearn.metrics import recall_score\n",
        "recall_score(y_test, pred, average='micro')"
      ]
    },
    {
      "cell_type": "code",
      "execution_count": null,
      "id": "2ebd8cac",
      "metadata": {
        "colab": {
          "base_uri": "https://localhost:8080/"
        },
        "id": "2ebd8cac",
        "outputId": "a0aaee46-7f2d-42f9-f4ca-c6b9912b4e56"
      },
      "outputs": [
        {
          "data": {
            "text/plain": [
              "0.975627806816091"
            ]
          },
          "execution_count": 33,
          "metadata": {},
          "output_type": "execute_result"
        }
      ],
      "source": [
        "\n",
        "from sklearn.metrics import precision_score\n",
        "precision_score(y_test,pred, average='micro')"
      ]
    },
    {
      "cell_type": "code",
      "execution_count": null,
      "id": "6ba5e2af",
      "metadata": {
        "colab": {
          "base_uri": "https://localhost:8080/"
        },
        "id": "6ba5e2af",
        "outputId": "a0b86bbb-5050-4eee-9826-328dc2f85a2d"
      },
      "outputs": [
        {
          "data": {
            "text/plain": [
              "0         1\n",
              "1         0\n",
              "2         0\n",
              "3         0\n",
              "4         1\n",
              "         ..\n",
              "733700    1\n",
              "733701    0\n",
              "733702    0\n",
              "733703    1\n",
              "733704    0\n",
              "Name: category_enc, Length: 733705, dtype: int64"
            ]
          },
          "execution_count": 34,
          "metadata": {},
          "output_type": "execute_result"
        }
      ],
      "source": [
        "y_test\n"
      ]
    },
    {
      "cell_type": "code",
      "execution_count": null,
      "id": "35521d1e",
      "metadata": {
        "id": "35521d1e"
      },
      "outputs": [],
      "source": [
        "\n",
        "y_pred_proba=logisticRegr.predict_proba(data_test)"
      ]
    },
    {
      "cell_type": "code",
      "execution_count": null,
      "id": "ebbea805",
      "metadata": {
        "colab": {
          "base_uri": "https://localhost:8080/"
        },
        "id": "ebbea805",
        "outputId": "8f7b1049-0c9a-430a-bcd3-3ecf89a3d5d4"
      },
      "outputs": [
        {
          "name": "stdout",
          "output_type": "stream",
          "text": [
            "              precision    recall  f1-score   support\n",
            "\n",
            "           0       0.97      0.99      0.98    385309\n",
            "           1       0.99      0.96      0.98    330112\n",
            "           2       1.00      1.00      1.00       107\n",
            "           3       0.81      0.95      0.88     18163\n",
            "           4       0.00      0.00      0.00        14\n",
            "\n",
            "    accuracy                           0.98    733705\n",
            "   macro avg       0.76      0.78      0.77    733705\n",
            "weighted avg       0.98      0.98      0.98    733705\n",
            "\n"
          ]
        }
      ],
      "source": [
        "from sklearn.metrics import classification_report,confusion_matrix\n",
        "prediction = logisticRegr.predict(data_test)\n",
        "print(classification_report(y_test,prediction))"
      ]
    },
    {
      "cell_type": "code",
      "execution_count": null,
      "id": "5da42b45",
      "metadata": {
        "colab": {
          "base_uri": "https://localhost:8080/",
          "height": 676
        },
        "id": "5da42b45",
        "outputId": "e65de40e-5412-4912-d97b-3796ea2ebfc6"
      },
      "outputs": [
        {
          "data": {
            "image/png": "[encoded data removed]",
            "text/plain": [
              "<Figure size 700x800 with 1 Axes>"
            ]
          },
          "metadata": {},
          "output_type": "display_data"
        }
      ],
      "source": [
        "from sklearn.metrics import f1_score\n",
        "import matplotlib.pyplot as plt\n",
        "from itertools import cycle\n",
        "\n",
        "plt.figure(figsize=(7, 8))\n",
        "f_scores = np.linspace(0.2, 0.8, num=4)\n",
        "lines = []\n",
        "labels = []\n",
        "for f1_score in f_scores:\n",
        "    x = np.linspace(0.01, 1)\n",
        "    y = f1_score * x / (2 * x - f1_score)\n",
        "    l, = plt.plot(x[y >= 0], y[y >= 0], color='gray', alpha=0.2)\n",
        "    plt.annotate('f1={0:0.1f}'.format(f1_score), xy=(0.9, y[45] + 0.02))\n",
        "lines.append(l)\n",
        "labels.append('iso-f1 curves')\n",
        "plt.show()"
      ]
    },
    {
      "cell_type": "code",
      "execution_count": null,
      "id": "590036c4",
      "metadata": {
        "colab": {
          "base_uri": "https://localhost:8080/"
        },
        "id": "590036c4",
        "outputId": "dd0e38c4-dbab-4600-ebb6-2ffa59242aa6"
      },
      "outputs": [
        {
          "data": {
            "text/plain": [
              "array([0.98604635, 0.98656061, 0.98676632, 0.98741772, 0.98666347,\n",
              "       0.9868006 , 0.987143  , 0.98686872, 0.98594302, 0.98721157])"
            ]
          },
          "execution_count": 46,
          "metadata": {},
          "output_type": "execute_result"
        }
      ],
      "source": [
        "from sklearn.linear_model import LogisticRegression\n",
        "lr2 = LogisticRegression(penalty='l2',C = 25, solver = 'lbfgs',max_iter=1000,n_jobs=100)\n",
        "from sklearn.model_selection import cross_val_score\n",
        "scores = cross_val_score(lr2, Xres1, yres1, cv=10)\n",
        "scores"
      ]
    },
    {
      "cell_type": "code",
      "execution_count": null,
      "id": "98024ab5",
      "metadata": {
        "colab": {
          "base_uri": "https://localhost:8080/"
        },
        "id": "98024ab5",
        "outputId": "1c63c22a-30b1-4964-faf6-9f6c904a4be1"
      },
      "outputs": [
        {
          "data": {
            "text/plain": [
              "0.9867421392152979"
            ]
          },
          "execution_count": 47,
          "metadata": {},
          "output_type": "execute_result"
        }
      ],
      "source": [
        "scores.mean()"
      ]
    },
    {
      "cell_type": "markdown",
      "source": [
        "Detection using Support Vector Machines"
      ],
      "metadata": {
        "id": "JnvRvI9F9yTP"
      },
      "id": "JnvRvI9F9yTP"
    },
    {
      "cell_type": "code",
      "execution_count": null,
      "id": "d631a460",
      "metadata": {
        "id": "d631a460"
      },
      "outputs": [],
      "source": []
    },
    {
      "cell_type": "code",
      "execution_count": null,
      "id": "648e5f54",
      "metadata": {
        "id": "648e5f54"
      },
      "outputs": [],
      "source": [
        "from sklearn import model_selection\n",
        "from sklearn.model_selection import StratifiedKFold,cross_val_score\n",
        "from sklearn.svm import SVC"
      ]
    },
    {
      "cell_type": "code",
      "execution_count": null,
      "id": "6f1d459d",
      "metadata": {
        "id": "6f1d459d"
      },
      "outputs": [],
      "source": [
        "# model = SVC(verbose=1,random_state=42)\n",
        "# model.fit(train,y_train)\n",
        "# score = model.score(test,y_test)\n",
        "# score"
      ]
    },
    {
      "cell_type": "code",
      "execution_count": null,
      "id": "5a9d35a2",
      "metadata": {
        "id": "5a9d35a2"
      },
      "outputs": [],
      "source": [
        "# from sklearn.metrics import classification_report,confusion_matrix\n",
        "# prediction = model.predict(test)\n",
        "# print(classification_report(y_test,prediction))"
      ]
    },
    {
      "cell_type": "code",
      "execution_count": null,
      "id": "b1614e17",
      "metadata": {
        "id": "b1614e17"
      },
      "outputs": [],
      "source": [
        "# print(confusion_matrix(y_test,prediction))"
      ]
    },
    {
      "cell_type": "code",
      "execution_count": null,
      "id": "ce193824",
      "metadata": {
        "id": "ce193824"
      },
      "outputs": [],
      "source": [
        "import imblearn\n",
        "from imblearn.over_sampling import RandomOverSampler\n",
        "samp_strat= { 0 : 1541315, 1 : 1320148, 2 : 72919, 3 : 72919}\n",
        "random_over= RandomOverSampler(sampling_strategy=samp_strat,random_state=1)\n",
        "Xres,yres = random_over.fit_resample(train,y_train)"
      ]
    },
    {
      "cell_type": "code",
      "execution_count": null,
      "id": "0906d3f6",
      "metadata": {
        "id": "0906d3f6",
        "outputId": "e7714920-7499-4e0f-b77b-a03db0a0dc52"
      },
      "outputs": [
        {
          "data": {
            "text/plain": [
              "0    1541315\n",
              "1    1320148\n",
              "3      72919\n",
              "2      72919\n",
              "Name: category_enc, dtype: int64"
            ]
          },
          "execution_count": 46,
          "metadata": {},
          "output_type": "execute_result"
        }
      ],
      "source": [
        "pd.Series(yres).value_counts()"
      ]
    },
    {
      "cell_type": "code",
      "execution_count": null,
      "id": "4e140501",
      "metadata": {
        "id": "4e140501"
      },
      "outputs": [],
      "source": [
        "import imblearn\n",
        "from imblearn.under_sampling import RandomUnderSampler\n",
        "samp_strat= { 0 : 72919, 1 : 72919, 2 : 72919, 3 : 72919}\n",
        "random_under= RandomUnderSampler(sampling_strategy=samp_strat,random_state=1)\n",
        "Xres1,yres1 = random_under.fit_resample(Xres,yres)"
      ]
    },
    {
      "cell_type": "code",
      "execution_count": null,
      "id": "ccebc3ed",
      "metadata": {
        "id": "ccebc3ed",
        "outputId": "cb960b56-2ce8-46f0-edad-d36c0f405231"
      },
      "outputs": [
        {
          "data": {
            "text/plain": [
              "3    72919\n",
              "2    72919\n",
              "1    72919\n",
              "0    72919\n",
              "Name: category_enc, dtype: int64"
            ]
          },
          "execution_count": 48,
          "metadata": {},
          "output_type": "execute_result"
        }
      ],
      "source": [
        "pd.Series(yres1).value_counts()"
      ]
    },
    {
      "cell_type": "code",
      "execution_count": null,
      "id": "1d005143",
      "metadata": {
        "id": "1d005143",
        "outputId": "3e3e6cc0-5e26-4ab7-d6b2-48f207c52022"
      },
      "outputs": [
        {
          "name": "stdout",
          "output_type": "stream",
          "text": [
            "[LibSVM]"
          ]
        },
        {
          "data": {
            "text/plain": [
              "0.8990678637191951"
            ]
          },
          "execution_count": 49,
          "metadata": {},
          "output_type": "execute_result"
        }
      ],
      "source": [
        "model = SVC(verbose=1,random_state=42)\n",
        "model.fit(Xres1,yres1)\n",
        "score = model.score(test,y_test)\n",
        "score"
      ]
    },
    {
      "cell_type": "code",
      "execution_count": null,
      "id": "00ae1b20",
      "metadata": {
        "id": "00ae1b20",
        "outputId": "0a50b829-e617-42d9-b62d-29263c9306a6"
      },
      "outputs": [
        {
          "name": "stdout",
          "output_type": "stream",
          "text": [
            "              precision    recall  f1-score   support\n",
            "\n",
            "           0       0.89      0.93      0.91    385309\n",
            "           1       1.00      0.86      0.92    330112\n",
            "           2       1.00      0.99      1.00       107\n",
            "           3       0.38      0.93      0.54     18163\n",
            "\n",
            "    accuracy                           0.90    733691\n",
            "   macro avg       0.82      0.93      0.84    733691\n",
            "weighted avg       0.92      0.90      0.91    733691\n",
            "\n"
          ]
        }
      ],
      "source": [
        "from sklearn.metrics import classification_report,confusion_matrix\n",
        "prediction = model.predict(test)\n",
        "print(classification_report(y_test,prediction))\n"
      ]
    },
    {
      "cell_type": "code",
      "execution_count": null,
      "id": "c9f72aa0",
      "metadata": {
        "id": "c9f72aa0",
        "outputId": "66606052-7958-44d0-d732-a9268574c1fb"
      },
      "outputs": [
        {
          "name": "stdout",
          "output_type": "stream",
          "text": [
            "[[359050    157      0  26102]\n",
            " [ 44781 283591      0   1740]\n",
            " [     0      0    106      1]\n",
            " [   339    933      0  16891]]\n"
          ]
        }
      ],
      "source": [
        "print(confusion_matrix(y_test,prediction))"
      ]
    },
    {
      "cell_type": "code",
      "execution_count": null,
      "id": "3915e171",
      "metadata": {
        "id": "3915e171"
      },
      "outputs": [],
      "source": [
        "model = SVC()\n",
        "skf = StratifiedKFold(n_splits=10,shuffle=True,random_state=42)\n",
        "scores = cross_val_score(model,Xres1,yres1,scoring='accuracy',cv=skf)"
      ]
    },
    {
      "cell_type": "code",
      "execution_count": null,
      "id": "9eba986c",
      "metadata": {
        "id": "9eba986c",
        "outputId": "9727a747-23ff-4f6d-b2e6-5e010f059cac"
      },
      "outputs": [
        {
          "data": {
            "text/plain": [
              "array([0.92594624, 0.93043747, 0.92995749, 0.92868897, 0.93006034,\n",
              "       0.92892896, 0.92405801, 0.92659512, 0.92724655, 0.92830939])"
            ]
          },
          "execution_count": 54,
          "metadata": {},
          "output_type": "execute_result"
        }
      ],
      "source": [
        "scores"
      ]
    },
    {
      "cell_type": "code",
      "execution_count": null,
      "id": "cc670cb2",
      "metadata": {
        "id": "cc670cb2",
        "outputId": "4eef8c01-f961-4e75-e9cf-6753525fd452"
      },
      "outputs": [
        {
          "data": {
            "text/plain": [
              "0.9280228545291823"
            ]
          },
          "execution_count": 55,
          "metadata": {},
          "output_type": "execute_result"
        }
      ],
      "source": [
        "from numpy import mean\n",
        "mean(scores)"
      ]
    },
    {
      "cell_type": "code",
      "execution_count": null,
      "id": "01344151",
      "metadata": {
        "id": "01344151",
        "outputId": "57fc30fd-1893-45af-ec5a-5f3828841bbd"
      },
      "outputs": [
        {
          "name": "stdout",
          "output_type": "stream",
          "text": [
            "Fitting 3 folds for each of 4 candidates, totalling 12 fits\n",
            "[CV] C=1, gamma=0.01 .................................................\n"
          ]
        },
        {
          "name": "stderr",
          "output_type": "stream",
          "text": [
            "[Parallel(n_jobs=1)]: Using backend SequentialBackend with 1 concurrent workers.\n"
          ]
        },
        {
          "name": "stdout",
          "output_type": "stream",
          "text": [
            "[CV] ..................... C=1, gamma=0.01, score=0.985, total= 2.8min\n",
            "[CV] C=1, gamma=0.01 .................................................\n"
          ]
        },
        {
          "name": "stderr",
          "output_type": "stream",
          "text": [
            "[Parallel(n_jobs=1)]: Done   1 out of   1 | elapsed:  2.8min remaining:    0.0s\n"
          ]
        },
        {
          "name": "stdout",
          "output_type": "stream",
          "text": [
            "[CV] ..................... C=1, gamma=0.01, score=0.985, total= 2.9min\n",
            "[CV] C=1, gamma=0.01 .................................................\n"
          ]
        },
        {
          "name": "stderr",
          "output_type": "stream",
          "text": [
            "[Parallel(n_jobs=1)]: Done   2 out of   2 | elapsed:  5.7min remaining:    0.0s\n"
          ]
        },
        {
          "name": "stdout",
          "output_type": "stream",
          "text": [
            "[CV] ..................... C=1, gamma=0.01, score=0.985, total= 2.8min\n",
            "[CV] C=1, gamma=0.1 ..................................................\n",
            "[CV] ...................... C=1, gamma=0.1, score=0.993, total= 5.0min\n",
            "[CV] C=1, gamma=0.1 ..................................................\n",
            "[CV] ...................... C=1, gamma=0.1, score=0.993, total= 5.2min\n",
            "[CV] C=1, gamma=0.1 ..................................................\n",
            "[CV] ...................... C=1, gamma=0.1, score=0.993, total= 5.5min\n",
            "[CV] C=10, gamma=0.01 ................................................\n",
            "[CV] .................... C=10, gamma=0.01, score=0.990, total= 1.4min\n",
            "[CV] C=10, gamma=0.01 ................................................\n",
            "[CV] .................... C=10, gamma=0.01, score=0.990, total= 1.4min\n",
            "[CV] C=10, gamma=0.01 ................................................\n",
            "[CV] .................... C=10, gamma=0.01, score=0.990, total= 1.3min\n",
            "[CV] C=10, gamma=0.1 .................................................\n",
            "[CV] ..................... C=10, gamma=0.1, score=0.997, total= 2.8min\n",
            "[CV] C=10, gamma=0.1 .................................................\n",
            "[CV] ..................... C=10, gamma=0.1, score=0.997, total= 2.8min\n",
            "[CV] C=10, gamma=0.1 .................................................\n",
            "[CV] ..................... C=10, gamma=0.1, score=0.997, total= 2.9min\n"
          ]
        },
        {
          "name": "stderr",
          "output_type": "stream",
          "text": [
            "[Parallel(n_jobs=1)]: Done  12 out of  12 | elapsed: 36.9min finished\n"
          ]
        },
        {
          "name": "stdout",
          "output_type": "stream",
          "text": [
            "best score: 0.9973703695920392\n",
            "best params: {'C': 10, 'gamma': 0.1}\n"
          ]
        }
      ],
      "source": [
        "params = {'gamma':[0.01,0.1],'C':(1,10)}\n",
        "from sklearn.model_selection import GridSearchCV\n",
        "model1 = SVC(random_state=42)\n",
        "gscv = GridSearchCV(model1,params,verbose=3,cv=3)\n",
        "gscv.fit(Xres1,yres1)\n",
        "print(\"best score:\",gscv.best_score_)\n",
        "print(\"best params:\",gscv.best_params_)"
      ]
    },
    {
      "cell_type": "markdown",
      "id": "5597d374",
      "metadata": {
        "id": "5597d374"
      },
      "source": [
        "### Sampling"
      ]
    },
    {
      "cell_type": "code",
      "execution_count": null,
      "id": "64ed4667",
      "metadata": {
        "id": "64ed4667"
      },
      "outputs": [],
      "source": [
        "import imblearn\n",
        "from imblearn.under_sampling import RandomUnderSampler\n",
        "samp_strat= { 0:72919, 1:72919, 3:72919, 2:370}\n",
        "random_under= RandomUnderSampler(sampling_strategy=samp_strat,random_state=1)\n",
        "X_rus,y_rus = random_under.fit_resample(X_train,y_train)"
      ]
    },
    {
      "cell_type": "code",
      "execution_count": null,
      "id": "89a34d2c",
      "metadata": {
        "scrolled": true,
        "id": "89a34d2c",
        "outputId": "a89a9f54-1d24-4134-8718-c43e5dfe707b"
      },
      "outputs": [
        {
          "data": {
            "text/plain": [
              "3    72919\n",
              "1    72919\n",
              "0    72919\n",
              "2      370\n",
              "Name: category_enc, dtype: int64"
            ]
          },
          "execution_count": 45,
          "metadata": {},
          "output_type": "execute_result"
        }
      ],
      "source": [
        "y_rus.value_counts()"
      ]
    },
    {
      "cell_type": "code",
      "execution_count": null,
      "id": "3b7aee5f",
      "metadata": {
        "id": "3b7aee5f"
      },
      "outputs": [],
      "source": [
        "from imblearn.over_sampling import RandomOverSampler\n",
        "samp_strat= { 0:72919, 1:72919, 2:72919, 3:72919}\n",
        "random_under= RandomOverSampler(sampling_strategy=samp_strat,random_state=1)\n",
        "Xres,yres = random_under.fit_resample(X_rus,y_rus)"
      ]
    },
    {
      "cell_type": "code",
      "execution_count": null,
      "id": "19c0ebe2",
      "metadata": {
        "id": "19c0ebe2",
        "outputId": "9d3a41d4-5745-4e3e-81f3-b38128df3324"
      },
      "outputs": [
        {
          "data": {
            "text/plain": [
              "3    72919\n",
              "2    72919\n",
              "1    72919\n",
              "0    72919\n",
              "Name: category_enc, dtype: int64"
            ]
          },
          "execution_count": 47,
          "metadata": {},
          "output_type": "execute_result"
        }
      ],
      "source": [
        "yres.value_counts()"
      ]
    },
    {
      "cell_type": "code",
      "execution_count": null,
      "id": "e08c1e4b",
      "metadata": {
        "id": "e08c1e4b",
        "outputId": "d7cc80d8-a603-4622-c2c2-96d613caec3c"
      },
      "outputs": [
        {
          "data": {
            "text/plain": [
              "<matplotlib.axes._subplots.AxesSubplot at 0x23475c89388>"
            ]
          },
          "execution_count": 48,
          "metadata": {},
          "output_type": "execute_result"
        },
        {
          "data": {
            "image/png": "[encoded data removed]",
            "text/plain": [
              "<Figure size 720x360 with 1 Axes>"
            ]
          },
          "metadata": {},
          "output_type": "display_data"
        }
      ],
      "source": [
        "plt.figure(figsize=(10,5))\n",
        "sns.countplot(yres,palette='magma')"
      ]
    },
    {
      "cell_type": "markdown",
      "id": "acf92daf",
      "metadata": {
        "id": "acf92daf"
      },
      "source": [
        "### XGBoost Model"
      ]
    },
    {
      "cell_type": "code",
      "execution_count": null,
      "id": "0f3a2529",
      "metadata": {
        "id": "0f3a2529",
        "outputId": "f61c1e28-80c7-46a1-f4d1-1f4b5aa11ac9"
      },
      "outputs": [
        {
          "name": "stdout",
          "output_type": "stream",
          "text": [
            "Accuracy of base model:  0.6174602114514148\n"
          ]
        }
      ],
      "source": [
        "from xgboost import XGBClassifier\n",
        "model_1 = XGBClassifier(random_state = 42)\n",
        "model_1.fit(Xres, yres)\n",
        "pred_1 = model_1.predict(X_test)\n",
        "score1 = model_1.score(X_test,y_test)\n",
        "print(\"Accuracy of base model: \",score1)"
      ]
    },
    {
      "cell_type": "code",
      "execution_count": null,
      "id": "5e04b6df",
      "metadata": {
        "id": "5e04b6df"
      },
      "outputs": [],
      "source": [
        "# from xgboost import plot_tree\n",
        "# plot_tree(model_1)\n",
        "# plt.show()"
      ]
    },
    {
      "cell_type": "markdown",
      "id": "ff516341",
      "metadata": {
        "id": "ff516341"
      },
      "source": [
        "We need to tune our model by Hyperparameter Tuning so as to get better accuracy."
      ]
    },
    {
      "cell_type": "markdown",
      "id": "4a2803b9",
      "metadata": {
        "id": "4a2803b9"
      },
      "source": [
        "### HyperParameter Tuning"
      ]
    },
    {
      "cell_type": "code",
      "execution_count": null,
      "id": "51587f74",
      "metadata": {
        "id": "51587f74"
      },
      "outputs": [],
      "source": [
        "from sklearn.model_selection import GridSearchCV"
      ]
    },
    {
      "cell_type": "code",
      "execution_count": null,
      "id": "60c650d5",
      "metadata": {
        "id": "60c650d5"
      },
      "outputs": [],
      "source": [
        " params={'max_depth':[5], 'n_estimators': [200,300,400],\n",
        "            'learning_rate': [0.15,0.20], 'subsample':[0.3,0.5,0.7]}"
      ]
    },
    {
      "cell_type": "code",
      "execution_count": null,
      "id": "b23b1335",
      "metadata": {
        "id": "b23b1335"
      },
      "outputs": [],
      "source": [
        "model_2 = GridSearchCV(XGBClassifier(),params,refit=True,verbose=3)"
      ]
    },
    {
      "cell_type": "code",
      "execution_count": null,
      "id": "0a0a9601",
      "metadata": {
        "scrolled": true,
        "id": "0a0a9601",
        "outputId": "021f54ee-6a54-43d3-e6cc-b6541159801e"
      },
      "outputs": [
        {
          "name": "stdout",
          "output_type": "stream",
          "text": [
            "Fitting 5 folds for each of 18 candidates, totalling 90 fits\n",
            "[CV] learning_rate=0.15, max_depth=5, n_estimators=200, subsample=0.3 \n"
          ]
        },
        {
          "name": "stderr",
          "output_type": "stream",
          "text": [
            "[Parallel(n_jobs=1)]: Using backend SequentialBackend with 1 concurrent workers.\n"
          ]
        },
        {
          "name": "stdout",
          "output_type": "stream",
          "text": [
            "[CV]  learning_rate=0.15, max_depth=5, n_estimators=200, subsample=0.3, score=1.000, total=  39.6s\n",
            "[CV] learning_rate=0.15, max_depth=5, n_estimators=200, subsample=0.3 \n"
          ]
        },
        {
          "name": "stderr",
          "output_type": "stream",
          "text": [
            "[Parallel(n_jobs=1)]: Done   1 out of   1 | elapsed:   39.5s remaining:    0.0s\n"
          ]
        },
        {
          "name": "stdout",
          "output_type": "stream",
          "text": [
            "[CV]  learning_rate=0.15, max_depth=5, n_estimators=200, subsample=0.3, score=1.000, total=  40.3s\n",
            "[CV] learning_rate=0.15, max_depth=5, n_estimators=200, subsample=0.3 \n"
          ]
        },
        {
          "name": "stderr",
          "output_type": "stream",
          "text": [
            "[Parallel(n_jobs=1)]: Done   2 out of   2 | elapsed:  1.3min remaining:    0.0s\n"
          ]
        },
        {
          "name": "stdout",
          "output_type": "stream",
          "text": [
            "[CV]  learning_rate=0.15, max_depth=5, n_estimators=200, subsample=0.3, score=1.000, total=  43.1s\n",
            "[CV] learning_rate=0.15, max_depth=5, n_estimators=200, subsample=0.3 \n",
            "[CV]  learning_rate=0.15, max_depth=5, n_estimators=200, subsample=0.3, score=1.000, total=  44.6s\n",
            "[CV] learning_rate=0.15, max_depth=5, n_estimators=200, subsample=0.3 \n",
            "[CV]  learning_rate=0.15, max_depth=5, n_estimators=200, subsample=0.3, score=1.000, total=  44.8s\n",
            "[CV] learning_rate=0.15, max_depth=5, n_estimators=200, subsample=0.5 \n",
            "[CV]  learning_rate=0.15, max_depth=5, n_estimators=200, subsample=0.5, score=1.000, total=  54.0s\n",
            "[CV] learning_rate=0.15, max_depth=5, n_estimators=200, subsample=0.5 \n",
            "[CV]  learning_rate=0.15, max_depth=5, n_estimators=200, subsample=0.5, score=1.000, total=  54.8s\n",
            "[CV] learning_rate=0.15, max_depth=5, n_estimators=200, subsample=0.5 \n",
            "[CV]  learning_rate=0.15, max_depth=5, n_estimators=200, subsample=0.5, score=1.000, total=  55.1s\n",
            "[CV] learning_rate=0.15, max_depth=5, n_estimators=200, subsample=0.5 \n",
            "[CV]  learning_rate=0.15, max_depth=5, n_estimators=200, subsample=0.5, score=1.000, total=  56.2s\n",
            "[CV] learning_rate=0.15, max_depth=5, n_estimators=200, subsample=0.5 \n",
            "[CV]  learning_rate=0.15, max_depth=5, n_estimators=200, subsample=0.5, score=1.000, total=  50.5s\n",
            "[CV] learning_rate=0.15, max_depth=5, n_estimators=200, subsample=0.7 \n",
            "[CV]  learning_rate=0.15, max_depth=5, n_estimators=200, subsample=0.7, score=1.000, total=  49.4s\n",
            "[CV] learning_rate=0.15, max_depth=5, n_estimators=200, subsample=0.7 \n",
            "[CV]  learning_rate=0.15, max_depth=5, n_estimators=200, subsample=0.7, score=1.000, total=  49.2s\n",
            "[CV] learning_rate=0.15, max_depth=5, n_estimators=200, subsample=0.7 \n",
            "[CV]  learning_rate=0.15, max_depth=5, n_estimators=200, subsample=0.7, score=1.000, total=  49.7s\n",
            "[CV] learning_rate=0.15, max_depth=5, n_estimators=200, subsample=0.7 \n",
            "[CV]  learning_rate=0.15, max_depth=5, n_estimators=200, subsample=0.7, score=1.000, total=  48.7s\n",
            "[CV] learning_rate=0.15, max_depth=5, n_estimators=200, subsample=0.7 \n",
            "[CV]  learning_rate=0.15, max_depth=5, n_estimators=200, subsample=0.7, score=1.000, total=  51.0s\n",
            "[CV] learning_rate=0.15, max_depth=5, n_estimators=300, subsample=0.3 \n",
            "[CV]  learning_rate=0.15, max_depth=5, n_estimators=300, subsample=0.3, score=1.000, total=  56.0s\n",
            "[CV] learning_rate=0.15, max_depth=5, n_estimators=300, subsample=0.3 \n",
            "[CV]  learning_rate=0.15, max_depth=5, n_estimators=300, subsample=0.3, score=1.000, total=  55.5s\n",
            "[CV] learning_rate=0.15, max_depth=5, n_estimators=300, subsample=0.3 \n",
            "[CV]  learning_rate=0.15, max_depth=5, n_estimators=300, subsample=0.3, score=1.000, total=  55.7s\n",
            "[CV] learning_rate=0.15, max_depth=5, n_estimators=300, subsample=0.3 \n",
            "[CV]  learning_rate=0.15, max_depth=5, n_estimators=300, subsample=0.3, score=1.000, total=  55.4s\n",
            "[CV] learning_rate=0.15, max_depth=5, n_estimators=300, subsample=0.3 \n",
            "[CV]  learning_rate=0.15, max_depth=5, n_estimators=300, subsample=0.3, score=1.000, total=  55.1s\n",
            "[CV] learning_rate=0.15, max_depth=5, n_estimators=300, subsample=0.5 \n",
            "[CV]  learning_rate=0.15, max_depth=5, n_estimators=300, subsample=0.5, score=1.000, total= 1.1min\n",
            "[CV] learning_rate=0.15, max_depth=5, n_estimators=300, subsample=0.5 \n",
            "[CV]  learning_rate=0.15, max_depth=5, n_estimators=300, subsample=0.5, score=1.000, total= 1.1min\n",
            "[CV] learning_rate=0.15, max_depth=5, n_estimators=300, subsample=0.5 \n",
            "[CV]  learning_rate=0.15, max_depth=5, n_estimators=300, subsample=0.5, score=1.000, total= 1.1min\n",
            "[CV] learning_rate=0.15, max_depth=5, n_estimators=300, subsample=0.5 \n",
            "[CV]  learning_rate=0.15, max_depth=5, n_estimators=300, subsample=0.5, score=1.000, total= 1.1min\n",
            "[CV] learning_rate=0.15, max_depth=5, n_estimators=300, subsample=0.5 \n",
            "[CV]  learning_rate=0.15, max_depth=5, n_estimators=300, subsample=0.5, score=1.000, total= 1.1min\n",
            "[CV] learning_rate=0.15, max_depth=5, n_estimators=300, subsample=0.7 \n",
            "[CV]  learning_rate=0.15, max_depth=5, n_estimators=300, subsample=0.7, score=1.000, total= 1.2min\n",
            "[CV] learning_rate=0.15, max_depth=5, n_estimators=300, subsample=0.7 \n",
            "[CV]  learning_rate=0.15, max_depth=5, n_estimators=300, subsample=0.7, score=1.000, total= 1.2min\n",
            "[CV] learning_rate=0.15, max_depth=5, n_estimators=300, subsample=0.7 \n",
            "[CV]  learning_rate=0.15, max_depth=5, n_estimators=300, subsample=0.7, score=1.000, total= 1.2min\n",
            "[CV] learning_rate=0.15, max_depth=5, n_estimators=300, subsample=0.7 \n",
            "[CV]  learning_rate=0.15, max_depth=5, n_estimators=300, subsample=0.7, score=1.000, total= 1.1min\n",
            "[CV] learning_rate=0.15, max_depth=5, n_estimators=300, subsample=0.7 \n",
            "[CV]  learning_rate=0.15, max_depth=5, n_estimators=300, subsample=0.7, score=1.000, total= 1.2min\n",
            "[CV] learning_rate=0.15, max_depth=5, n_estimators=400, subsample=0.3 \n",
            "[CV]  learning_rate=0.15, max_depth=5, n_estimators=400, subsample=0.3, score=1.000, total= 1.2min\n",
            "[CV] learning_rate=0.15, max_depth=5, n_estimators=400, subsample=0.3 \n",
            "[CV]  learning_rate=0.15, max_depth=5, n_estimators=400, subsample=0.3, score=1.000, total= 1.2min\n",
            "[CV] learning_rate=0.15, max_depth=5, n_estimators=400, subsample=0.3 \n",
            "[CV]  learning_rate=0.15, max_depth=5, n_estimators=400, subsample=0.3, score=1.000, total= 1.2min\n",
            "[CV] learning_rate=0.15, max_depth=5, n_estimators=400, subsample=0.3 \n",
            "[CV]  learning_rate=0.15, max_depth=5, n_estimators=400, subsample=0.3, score=1.000, total= 1.2min\n",
            "[CV] learning_rate=0.15, max_depth=5, n_estimators=400, subsample=0.3 \n",
            "[CV]  learning_rate=0.15, max_depth=5, n_estimators=400, subsample=0.3, score=1.000, total= 1.2min\n",
            "[CV] learning_rate=0.15, max_depth=5, n_estimators=400, subsample=0.5 \n",
            "[CV]  learning_rate=0.15, max_depth=5, n_estimators=400, subsample=0.5, score=1.000, total= 1.4min\n",
            "[CV] learning_rate=0.15, max_depth=5, n_estimators=400, subsample=0.5 \n",
            "[CV]  learning_rate=0.15, max_depth=5, n_estimators=400, subsample=0.5, score=1.000, total= 1.4min\n",
            "[CV] learning_rate=0.15, max_depth=5, n_estimators=400, subsample=0.5 \n",
            "[CV]  learning_rate=0.15, max_depth=5, n_estimators=400, subsample=0.5, score=1.000, total= 1.5min\n",
            "[CV] learning_rate=0.15, max_depth=5, n_estimators=400, subsample=0.5 \n",
            "[CV]  learning_rate=0.15, max_depth=5, n_estimators=400, subsample=0.5, score=1.000, total= 1.4min\n",
            "[CV] learning_rate=0.15, max_depth=5, n_estimators=400, subsample=0.5 \n",
            "[CV]  learning_rate=0.15, max_depth=5, n_estimators=400, subsample=0.5, score=1.000, total= 1.4min\n",
            "[CV] learning_rate=0.15, max_depth=5, n_estimators=400, subsample=0.7 \n",
            "[CV]  learning_rate=0.15, max_depth=5, n_estimators=400, subsample=0.7, score=1.000, total= 1.6min\n",
            "[CV] learning_rate=0.15, max_depth=5, n_estimators=400, subsample=0.7 \n",
            "[CV]  learning_rate=0.15, max_depth=5, n_estimators=400, subsample=0.7, score=1.000, total= 1.6min\n",
            "[CV] learning_rate=0.15, max_depth=5, n_estimators=400, subsample=0.7 \n",
            "[CV]  learning_rate=0.15, max_depth=5, n_estimators=400, subsample=0.7, score=1.000, total= 1.5min\n",
            "[CV] learning_rate=0.15, max_depth=5, n_estimators=400, subsample=0.7 \n",
            "[CV]  learning_rate=0.15, max_depth=5, n_estimators=400, subsample=0.7, score=1.000, total= 1.5min\n",
            "[CV] learning_rate=0.15, max_depth=5, n_estimators=400, subsample=0.7 \n",
            "[CV]  learning_rate=0.15, max_depth=5, n_estimators=400, subsample=0.7, score=1.000, total= 1.5min\n",
            "[CV] learning_rate=0.2, max_depth=5, n_estimators=200, subsample=0.3 .\n",
            "[CV]  learning_rate=0.2, max_depth=5, n_estimators=200, subsample=0.3, score=1.000, total=  37.4s\n",
            "[CV] learning_rate=0.2, max_depth=5, n_estimators=200, subsample=0.3 .\n",
            "[CV]  learning_rate=0.2, max_depth=5, n_estimators=200, subsample=0.3, score=1.000, total=  38.8s\n",
            "[CV] learning_rate=0.2, max_depth=5, n_estimators=200, subsample=0.3 .\n",
            "[CV]  learning_rate=0.2, max_depth=5, n_estimators=200, subsample=0.3, score=1.000, total=  36.7s\n",
            "[CV] learning_rate=0.2, max_depth=5, n_estimators=200, subsample=0.3 .\n",
            "[CV]  learning_rate=0.2, max_depth=5, n_estimators=200, subsample=0.3, score=1.000, total=  37.3s\n",
            "[CV] learning_rate=0.2, max_depth=5, n_estimators=200, subsample=0.3 .\n",
            "[CV]  learning_rate=0.2, max_depth=5, n_estimators=200, subsample=0.3, score=1.000, total=  42.4s\n",
            "[CV] learning_rate=0.2, max_depth=5, n_estimators=200, subsample=0.5 .\n",
            "[CV]  learning_rate=0.2, max_depth=5, n_estimators=200, subsample=0.5, score=1.000, total=  47.9s\n",
            "[CV] learning_rate=0.2, max_depth=5, n_estimators=200, subsample=0.5 .\n"
          ]
        },
        {
          "name": "stdout",
          "output_type": "stream",
          "text": [
            "[CV]  learning_rate=0.2, max_depth=5, n_estimators=200, subsample=0.5, score=1.000, total=  47.2s\n",
            "[CV] learning_rate=0.2, max_depth=5, n_estimators=200, subsample=0.5 .\n",
            "[CV]  learning_rate=0.2, max_depth=5, n_estimators=200, subsample=0.5, score=1.000, total=  46.7s\n",
            "[CV] learning_rate=0.2, max_depth=5, n_estimators=200, subsample=0.5 .\n",
            "[CV]  learning_rate=0.2, max_depth=5, n_estimators=200, subsample=0.5, score=1.000, total=  44.5s\n",
            "[CV] learning_rate=0.2, max_depth=5, n_estimators=200, subsample=0.5 .\n",
            "[CV]  learning_rate=0.2, max_depth=5, n_estimators=200, subsample=0.5, score=1.000, total=  44.5s\n",
            "[CV] learning_rate=0.2, max_depth=5, n_estimators=200, subsample=0.7 .\n",
            "[CV]  learning_rate=0.2, max_depth=5, n_estimators=200, subsample=0.7, score=1.000, total=  47.3s\n",
            "[CV] learning_rate=0.2, max_depth=5, n_estimators=200, subsample=0.7 .\n",
            "[CV]  learning_rate=0.2, max_depth=5, n_estimators=200, subsample=0.7, score=1.000, total=  47.6s\n",
            "[CV] learning_rate=0.2, max_depth=5, n_estimators=200, subsample=0.7 .\n",
            "[CV]  learning_rate=0.2, max_depth=5, n_estimators=200, subsample=0.7, score=1.000, total=  46.0s\n",
            "[CV] learning_rate=0.2, max_depth=5, n_estimators=200, subsample=0.7 .\n",
            "[CV]  learning_rate=0.2, max_depth=5, n_estimators=200, subsample=0.7, score=1.000, total=  46.7s\n",
            "[CV] learning_rate=0.2, max_depth=5, n_estimators=200, subsample=0.7 .\n",
            "[CV]  learning_rate=0.2, max_depth=5, n_estimators=200, subsample=0.7, score=1.000, total=  45.9s\n",
            "[CV] learning_rate=0.2, max_depth=5, n_estimators=300, subsample=0.3 .\n",
            "[CV]  learning_rate=0.2, max_depth=5, n_estimators=300, subsample=0.3, score=1.000, total=  53.7s\n",
            "[CV] learning_rate=0.2, max_depth=5, n_estimators=300, subsample=0.3 .\n",
            "[CV]  learning_rate=0.2, max_depth=5, n_estimators=300, subsample=0.3, score=1.000, total= 1.1min\n",
            "[CV] learning_rate=0.2, max_depth=5, n_estimators=300, subsample=0.3 .\n",
            "[CV]  learning_rate=0.2, max_depth=5, n_estimators=300, subsample=0.3, score=1.000, total=  58.0s\n",
            "[CV] learning_rate=0.2, max_depth=5, n_estimators=300, subsample=0.3 .\n",
            "[CV]  learning_rate=0.2, max_depth=5, n_estimators=300, subsample=0.3, score=1.000, total= 1.0min\n",
            "[CV] learning_rate=0.2, max_depth=5, n_estimators=300, subsample=0.3 .\n",
            "[CV]  learning_rate=0.2, max_depth=5, n_estimators=300, subsample=0.3, score=1.000, total=  59.7s\n",
            "[CV] learning_rate=0.2, max_depth=5, n_estimators=300, subsample=0.5 .\n",
            "[CV]  learning_rate=0.2, max_depth=5, n_estimators=300, subsample=0.5, score=1.000, total= 1.1min\n",
            "[CV] learning_rate=0.2, max_depth=5, n_estimators=300, subsample=0.5 .\n",
            "[CV]  learning_rate=0.2, max_depth=5, n_estimators=300, subsample=0.5, score=1.000, total= 1.1min\n",
            "[CV] learning_rate=0.2, max_depth=5, n_estimators=300, subsample=0.5 .\n",
            "[CV]  learning_rate=0.2, max_depth=5, n_estimators=300, subsample=0.5, score=1.000, total= 1.0min\n",
            "[CV] learning_rate=0.2, max_depth=5, n_estimators=300, subsample=0.5 .\n",
            "[CV]  learning_rate=0.2, max_depth=5, n_estimators=300, subsample=0.5, score=1.000, total= 1.0min\n",
            "[CV] learning_rate=0.2, max_depth=5, n_estimators=300, subsample=0.5 .\n",
            "[CV]  learning_rate=0.2, max_depth=5, n_estimators=300, subsample=0.5, score=1.000, total= 1.0min\n",
            "[CV] learning_rate=0.2, max_depth=5, n_estimators=300, subsample=0.7 .\n",
            "[CV]  learning_rate=0.2, max_depth=5, n_estimators=300, subsample=0.7, score=1.000, total= 1.1min\n",
            "[CV] learning_rate=0.2, max_depth=5, n_estimators=300, subsample=0.7 .\n",
            "[CV]  learning_rate=0.2, max_depth=5, n_estimators=300, subsample=0.7, score=1.000, total= 1.1min\n",
            "[CV] learning_rate=0.2, max_depth=5, n_estimators=300, subsample=0.7 .\n",
            "[CV]  learning_rate=0.2, max_depth=5, n_estimators=300, subsample=0.7, score=1.000, total= 1.1min\n",
            "[CV] learning_rate=0.2, max_depth=5, n_estimators=300, subsample=0.7 .\n",
            "[CV]  learning_rate=0.2, max_depth=5, n_estimators=300, subsample=0.7, score=1.000, total= 1.1min\n",
            "[CV] learning_rate=0.2, max_depth=5, n_estimators=300, subsample=0.7 .\n",
            "[CV]  learning_rate=0.2, max_depth=5, n_estimators=300, subsample=0.7, score=1.000, total= 1.1min\n",
            "[CV] learning_rate=0.2, max_depth=5, n_estimators=400, subsample=0.3 .\n",
            "[CV]  learning_rate=0.2, max_depth=5, n_estimators=400, subsample=0.3, score=1.000, total= 1.1min\n",
            "[CV] learning_rate=0.2, max_depth=5, n_estimators=400, subsample=0.3 .\n",
            "[CV]  learning_rate=0.2, max_depth=5, n_estimators=400, subsample=0.3, score=1.000, total= 1.1min\n",
            "[CV] learning_rate=0.2, max_depth=5, n_estimators=400, subsample=0.3 .\n",
            "[CV]  learning_rate=0.2, max_depth=5, n_estimators=400, subsample=0.3, score=1.000, total= 1.1min\n",
            "[CV] learning_rate=0.2, max_depth=5, n_estimators=400, subsample=0.3 .\n",
            "[CV]  learning_rate=0.2, max_depth=5, n_estimators=400, subsample=0.3, score=1.000, total= 1.2min\n",
            "[CV] learning_rate=0.2, max_depth=5, n_estimators=400, subsample=0.3 .\n",
            "[CV]  learning_rate=0.2, max_depth=5, n_estimators=400, subsample=0.3, score=1.000, total= 1.1min\n",
            "[CV] learning_rate=0.2, max_depth=5, n_estimators=400, subsample=0.5 .\n",
            "[CV]  learning_rate=0.2, max_depth=5, n_estimators=400, subsample=0.5, score=1.000, total= 1.3min\n",
            "[CV] learning_rate=0.2, max_depth=5, n_estimators=400, subsample=0.5 .\n",
            "[CV]  learning_rate=0.2, max_depth=5, n_estimators=400, subsample=0.5, score=1.000, total= 1.3min\n",
            "[CV] learning_rate=0.2, max_depth=5, n_estimators=400, subsample=0.5 .\n",
            "[CV]  learning_rate=0.2, max_depth=5, n_estimators=400, subsample=0.5, score=1.000, total= 1.3min\n",
            "[CV] learning_rate=0.2, max_depth=5, n_estimators=400, subsample=0.5 .\n",
            "[CV]  learning_rate=0.2, max_depth=5, n_estimators=400, subsample=0.5, score=1.000, total= 1.3min\n",
            "[CV] learning_rate=0.2, max_depth=5, n_estimators=400, subsample=0.5 .\n",
            "[CV]  learning_rate=0.2, max_depth=5, n_estimators=400, subsample=0.5, score=1.000, total= 1.5min\n",
            "[CV] learning_rate=0.2, max_depth=5, n_estimators=400, subsample=0.7 .\n",
            "[CV]  learning_rate=0.2, max_depth=5, n_estimators=400, subsample=0.7, score=1.000, total= 1.5min\n",
            "[CV] learning_rate=0.2, max_depth=5, n_estimators=400, subsample=0.7 .\n",
            "[CV]  learning_rate=0.2, max_depth=5, n_estimators=400, subsample=0.7, score=1.000, total= 1.6min\n",
            "[CV] learning_rate=0.2, max_depth=5, n_estimators=400, subsample=0.7 .\n",
            "[CV]  learning_rate=0.2, max_depth=5, n_estimators=400, subsample=0.7, score=1.000, total= 1.5min\n",
            "[CV] learning_rate=0.2, max_depth=5, n_estimators=400, subsample=0.7 .\n",
            "[CV]  learning_rate=0.2, max_depth=5, n_estimators=400, subsample=0.7, score=1.000, total= 1.5min\n",
            "[CV] learning_rate=0.2, max_depth=5, n_estimators=400, subsample=0.7 .\n",
            "[CV]  learning_rate=0.2, max_depth=5, n_estimators=400, subsample=0.7, score=1.000, total= 1.5min\n"
          ]
        },
        {
          "name": "stderr",
          "output_type": "stream",
          "text": [
            "[Parallel(n_jobs=1)]: Done  90 out of  90 | elapsed: 95.3min finished\n"
          ]
        },
        {
          "data": {
            "text/plain": [
              "GridSearchCV(estimator=XGBClassifier(base_score=None, booster=None,\n",
              "                                     colsample_bylevel=None,\n",
              "                                     colsample_bynode=None,\n",
              "                                     colsample_bytree=None, gamma=None,\n",
              "                                     gpu_id=None, importance_type='gain',\n",
              "                                     interaction_constraints=None,\n",
              "                                     learning_rate=None, max_delta_step=None,\n",
              "                                     max_depth=None, min_child_weight=None,\n",
              "                                     missing=nan, monotone_constraints=None,\n",
              "                                     n_estimators=100, n_jobs=None,\n",
              "                                     num_parallel_tree=None, random_state=None,\n",
              "                                     reg_alpha=None, reg_lambda=None,\n",
              "                                     scale_pos_weight=None, subsample=None,\n",
              "                                     tree_method=None, validate_parameters=None,\n",
              "                                     verbosity=None),\n",
              "             param_grid={'learning_rate': [0.15, 0.2], 'max_depth': [5],\n",
              "                         'n_estimators': [200, 300, 400],\n",
              "                         'subsample': [0.3, 0.5, 0.7]},\n",
              "             verbose=3)"
            ]
          },
          "execution_count": 55,
          "metadata": {},
          "output_type": "execute_result"
        }
      ],
      "source": [
        "model_2.fit(Xres,yres)"
      ]
    },
    {
      "cell_type": "code",
      "execution_count": null,
      "id": "1436e80f",
      "metadata": {
        "id": "1436e80f",
        "outputId": "119231cd-acd3-4b3b-d7c7-b11212b26ef8"
      },
      "outputs": [
        {
          "data": {
            "text/plain": [
              "{'learning_rate': 0.2, 'max_depth': 5, 'n_estimators': 200, 'subsample': 0.5}"
            ]
          },
          "execution_count": 56,
          "metadata": {},
          "output_type": "execute_result"
        }
      ],
      "source": [
        "model_2.best_params_"
      ]
    },
    {
      "cell_type": "code",
      "execution_count": null,
      "id": "6b4fd953",
      "metadata": {
        "id": "6b4fd953",
        "outputId": "e515b822-0b9e-49c3-fd62-c71c1e8b6aa4"
      },
      "outputs": [
        {
          "data": {
            "text/plain": [
              "XGBClassifier(base_score=0.5, booster='gbtree', colsample_bylevel=1,\n",
              "              colsample_bynode=1, colsample_bytree=1, gamma=0, gpu_id=-1,\n",
              "              importance_type='gain', interaction_constraints='',\n",
              "              learning_rate=0.2, max_delta_step=0, max_depth=5,\n",
              "              min_child_weight=1, missing=nan, monotone_constraints='()',\n",
              "              n_estimators=200, n_jobs=0, num_parallel_tree=1,\n",
              "              objective='multi:softprob', random_state=0, reg_alpha=0,\n",
              "              reg_lambda=1, scale_pos_weight=None, subsample=0.5,\n",
              "              tree_method='exact', validate_parameters=1, verbosity=None)"
            ]
          },
          "execution_count": 57,
          "metadata": {},
          "output_type": "execute_result"
        }
      ],
      "source": [
        "model_2.best_estimator_"
      ]
    },
    {
      "cell_type": "code",
      "execution_count": null,
      "id": "40f0c4f1",
      "metadata": {
        "id": "40f0c4f1"
      },
      "outputs": [],
      "source": [
        "pred_2 = model_2.predict(X_test)"
      ]
    },
    {
      "cell_type": "code",
      "execution_count": null,
      "id": "0d9fb0b0",
      "metadata": {
        "id": "0d9fb0b0",
        "outputId": "cb653ff7-2e00-4078-af49-4efe8f6071df"
      },
      "outputs": [
        {
          "name": "stdout",
          "output_type": "stream",
          "text": [
            "Accuracy of 1st test model:  81.8871977440094\n"
          ]
        }
      ],
      "source": [
        "score_2 = model_2.score(X_test,y_test)\n",
        "print(\"Accuracy of 1st test model: \",score_2*100)"
      ]
    },
    {
      "cell_type": "code",
      "execution_count": null,
      "id": "15f7fe60",
      "metadata": {
        "id": "15f7fe60"
      },
      "outputs": [],
      "source": [
        "params_new={'max_depth':[4], 'n_estimators': [200,300],\n",
        "           'learning_rate': [0.05,0.1], 'subsample':[0.5,0.7]}"
      ]
    },
    {
      "cell_type": "code",
      "execution_count": null,
      "id": "485be1a0",
      "metadata": {
        "id": "485be1a0"
      },
      "outputs": [],
      "source": [
        "model_3 = GridSearchCV(XGBClassifier(),params_new,refit=True,verbose=3,\n",
        "                       n_jobs=-1)"
      ]
    },
    {
      "cell_type": "code",
      "execution_count": null,
      "id": "466c30c6",
      "metadata": {
        "id": "466c30c6",
        "outputId": "b80b400e-379e-44a7-97e4-4e7e636bb1b5"
      },
      "outputs": [
        {
          "name": "stdout",
          "output_type": "stream",
          "text": [
            "Fitting 3 folds for each of 8 candidates, totalling 24 fits\n"
          ]
        },
        {
          "name": "stderr",
          "output_type": "stream",
          "text": [
            "[Parallel(n_jobs=-1)]: Using backend LokyBackend with 8 concurrent workers.\n",
            "[Parallel(n_jobs=-1)]: Done  18 out of  24 | elapsed: 15.0min remaining:  5.0min\n",
            "[Parallel(n_jobs=-1)]: Done  24 out of  24 | elapsed: 19.2min finished\n"
          ]
        },
        {
          "data": {
            "text/plain": [
              "GridSearchCV(cv=3,\n",
              "             estimator=XGBClassifier(base_score=None, booster=None,\n",
              "                                     colsample_bylevel=None,\n",
              "                                     colsample_bynode=None,\n",
              "                                     colsample_bytree=None, gamma=None,\n",
              "                                     gpu_id=None, importance_type='gain',\n",
              "                                     interaction_constraints=None,\n",
              "                                     learning_rate=None, max_delta_step=None,\n",
              "                                     max_depth=None, min_child_weight=None,\n",
              "                                     missing=nan, monotone_constraints=None,\n",
              "                                     n_estimators=100, n_jobs=None,\n",
              "                                     num_parallel_tree=None, random_state=None,\n",
              "                                     reg_alpha=None, reg_lambda=None,\n",
              "                                     scale_pos_weight=None, subsample=None,\n",
              "                                     tree_method=None, validate_parameters=None,\n",
              "                                     verbosity=None),\n",
              "             n_jobs=-1,\n",
              "             param_grid={'learning_rate': [0.05, 0.1], 'max_depth': [4],\n",
              "                         'n_estimators': [200, 300], 'subsample': [0.5, 0.7]},\n",
              "             verbose=3)"
            ]
          },
          "execution_count": 63,
          "metadata": {},
          "output_type": "execute_result"
        }
      ],
      "source": [
        "model_3.fit(Xres,yres)"
      ]
    },
    {
      "cell_type": "code",
      "execution_count": null,
      "id": "d568c5a7",
      "metadata": {
        "id": "d568c5a7",
        "outputId": "9cb36285-d2c3-45e4-9184-46f3d1957110"
      },
      "outputs": [
        {
          "data": {
            "text/plain": [
              "{'learning_rate': 0.1, 'max_depth': 4, 'n_estimators': 300, 'subsample': 0.7}"
            ]
          },
          "execution_count": 68,
          "metadata": {},
          "output_type": "execute_result"
        }
      ],
      "source": [
        "model_3.best_params_"
      ]
    },
    {
      "cell_type": "code",
      "execution_count": null,
      "id": "eb244ff0",
      "metadata": {
        "id": "eb244ff0",
        "outputId": "ab0101c7-9939-4139-ef68-4b4e016891b8"
      },
      "outputs": [
        {
          "data": {
            "text/plain": [
              "XGBClassifier(base_score=0.5, booster='gbtree', colsample_bylevel=1,\n",
              "              colsample_bynode=1, colsample_bytree=1, gamma=0, gpu_id=-1,\n",
              "              importance_type='gain', interaction_constraints='',\n",
              "              learning_rate=0.1, max_delta_step=0, max_depth=4,\n",
              "              min_child_weight=1, missing=nan, monotone_constraints='()',\n",
              "              n_estimators=300, n_jobs=0, num_parallel_tree=1,\n",
              "              objective='multi:softprob', random_state=0, reg_alpha=0,\n",
              "              reg_lambda=1, scale_pos_weight=None, subsample=0.7,\n",
              "              tree_method='exact', validate_parameters=1, verbosity=None)"
            ]
          },
          "execution_count": 69,
          "metadata": {},
          "output_type": "execute_result"
        }
      ],
      "source": [
        "model_3.best_estimator_"
      ]
    },
    {
      "cell_type": "code",
      "execution_count": null,
      "id": "0e5f5eab",
      "metadata": {
        "id": "0e5f5eab"
      },
      "outputs": [],
      "source": [
        "pred_3 = model_3.predict(X_test)"
      ]
    },
    {
      "cell_type": "code",
      "execution_count": null,
      "id": "035c1eaa",
      "metadata": {
        "id": "035c1eaa",
        "outputId": "4923f348-4746-4019-d81c-00890e193fc1"
      },
      "outputs": [
        {
          "name": "stdout",
          "output_type": "stream",
          "text": [
            "Accuracy of 2nd test model:  72.12177878698253\n"
          ]
        }
      ],
      "source": [
        "score_3 = model_3.score(X_test,y_test)\n",
        "print(\"Accuracy of 2nd test model: \",score_3*100)"
      ]
    },
    {
      "cell_type": "code",
      "execution_count": null,
      "id": "cc3faf94",
      "metadata": {
        "id": "cc3faf94",
        "outputId": "16c3843d-073e-4862-f58c-e0df2d733208"
      },
      "outputs": [
        {
          "name": "stdout",
          "output_type": "stream",
          "text": [
            "Fitting 3 folds for each of 18 candidates, totalling 54 fits\n"
          ]
        },
        {
          "name": "stderr",
          "output_type": "stream",
          "text": [
            "[Parallel(n_jobs=-1)]: Using backend LokyBackend with 8 concurrent workers.\n",
            "[Parallel(n_jobs=-1)]: Done  16 tasks      | elapsed: 14.3min\n",
            "[Parallel(n_jobs=-1)]: Done  54 out of  54 | elapsed: 59.8min finished\n"
          ]
        },
        {
          "data": {
            "text/plain": [
              "GridSearchCV(cv=3,\n",
              "             estimator=XGBClassifier(base_score=None, booster=None,\n",
              "                                     colsample_bylevel=None,\n",
              "                                     colsample_bynode=None,\n",
              "                                     colsample_bytree=None, gamma=None,\n",
              "                                     gpu_id=None, importance_type='gain',\n",
              "                                     interaction_constraints=None,\n",
              "                                     learning_rate=None, max_delta_step=None,\n",
              "                                     max_depth=None, min_child_weight=None,\n",
              "                                     missing=nan, monotone_constraints=None,\n",
              "                                     n_estimators=100, n_jobs=None,\n",
              "                                     num_parallel_tree=None, random_state=None,\n",
              "                                     reg_alpha=None, reg_lambda=None,\n",
              "                                     scale_pos_weight=None, subsample=None,\n",
              "                                     tree_method=None, validate_parameters=None,\n",
              "                                     verbosity=None),\n",
              "             n_jobs=-1,\n",
              "             param_grid={'learning_rate': [0.2, 0.3], 'max_depth': [5],\n",
              "                         'n_estimators': [200, 300, 500],\n",
              "                         'subsample': [0.5, 0.6, 0.7]},\n",
              "             verbose=3)"
            ]
          },
          "execution_count": 72,
          "metadata": {},
          "output_type": "execute_result"
        }
      ],
      "source": [
        "params_4 = {'max_depth':[5], 'n_estimators': [200,300,500],\n",
        "            'learning_rate': [0.20,0.30], 'subsample':[0.5,0.6,0.7]}\n",
        "model_4 = GridSearchCV(XGBClassifier(),params_4,refit=True,verbose=3,\n",
        "                       cv=3,n_jobs=-1)\n",
        "model_4.fit(Xres,yres)"
      ]
    },
    {
      "cell_type": "code",
      "execution_count": null,
      "id": "5c394019",
      "metadata": {
        "id": "5c394019",
        "outputId": "a7516433-900d-4c80-81f1-af8aefd2f8a3"
      },
      "outputs": [
        {
          "data": {
            "text/plain": [
              "{'learning_rate': 0.2, 'max_depth': 5, 'n_estimators': 300, 'subsample': 0.7}"
            ]
          },
          "execution_count": 73,
          "metadata": {},
          "output_type": "execute_result"
        }
      ],
      "source": [
        "model_4.best_params_"
      ]
    },
    {
      "cell_type": "code",
      "execution_count": null,
      "id": "141454b3",
      "metadata": {
        "id": "141454b3",
        "outputId": "16b67c11-f7da-4058-fc4a-2a012a361c17"
      },
      "outputs": [
        {
          "data": {
            "text/plain": [
              "XGBClassifier(base_score=0.5, booster='gbtree', colsample_bylevel=1,\n",
              "              colsample_bynode=1, colsample_bytree=1, gamma=0, gpu_id=-1,\n",
              "              importance_type='gain', interaction_constraints='',\n",
              "              learning_rate=0.2, max_delta_step=0, max_depth=5,\n",
              "              min_child_weight=1, missing=nan, monotone_constraints='()',\n",
              "              n_estimators=300, n_jobs=0, num_parallel_tree=1,\n",
              "              objective='multi:softprob', random_state=0, reg_alpha=0,\n",
              "              reg_lambda=1, scale_pos_weight=None, subsample=0.7,\n",
              "              tree_method='exact', validate_parameters=1, verbosity=None)"
            ]
          },
          "execution_count": 75,
          "metadata": {},
          "output_type": "execute_result"
        }
      ],
      "source": [
        "model_4.best_estimator_"
      ]
    },
    {
      "cell_type": "code",
      "execution_count": null,
      "id": "d5c243c8",
      "metadata": {
        "id": "d5c243c8"
      },
      "outputs": [],
      "source": [
        "pred_4 = model_4.predict(X_test)"
      ]
    },
    {
      "cell_type": "code",
      "execution_count": null,
      "id": "8c434f96",
      "metadata": {
        "id": "8c434f96",
        "outputId": "be987f14-def5-49f4-c9ef-ce1fdbc5611f"
      },
      "outputs": [
        {
          "name": "stdout",
          "output_type": "stream",
          "text": [
            "Accuracy of 3rd test model:  67.00722783842245\n"
          ]
        }
      ],
      "source": [
        "score_4 = model_4.score(X_test,y_test)\n",
        "print(\"Accuracy of 3rd test model: \",score_4*100)"
      ]
    },
    {
      "cell_type": "code",
      "execution_count": null,
      "id": "77614a9c",
      "metadata": {
        "id": "77614a9c"
      },
      "outputs": [],
      "source": [
        " params_5={'max_depth':[5,6], 'n_estimators': [200,300],\n",
        "            'learning_rate': [0.20], 'subsample':[0.5,0.7,0.9]}"
      ]
    },
    {
      "cell_type": "code",
      "execution_count": null,
      "id": "bd673970",
      "metadata": {
        "id": "bd673970"
      },
      "outputs": [],
      "source": [
        "model_5 = GridSearchCV(XGBClassifier(),params_5,refit=True,verbose=3)"
      ]
    },
    {
      "cell_type": "code",
      "execution_count": null,
      "id": "a449bca0",
      "metadata": {
        "id": "a449bca0",
        "outputId": "55b221b6-ace1-4e89-abb7-c15dbe1eda65"
      },
      "outputs": [
        {
          "name": "stdout",
          "output_type": "stream",
          "text": [
            "Fitting 5 folds for each of 12 candidates, totalling 60 fits\n",
            "[CV] learning_rate=0.2, max_depth=5, n_estimators=200, subsample=0.5 .\n"
          ]
        },
        {
          "name": "stderr",
          "output_type": "stream",
          "text": [
            "[Parallel(n_jobs=1)]: Using backend SequentialBackend with 1 concurrent workers.\n"
          ]
        },
        {
          "name": "stdout",
          "output_type": "stream",
          "text": [
            "[CV]  learning_rate=0.2, max_depth=5, n_estimators=200, subsample=0.5, score=1.000, total= 1.0min\n",
            "[CV] learning_rate=0.2, max_depth=5, n_estimators=200, subsample=0.5 .\n"
          ]
        },
        {
          "name": "stderr",
          "output_type": "stream",
          "text": [
            "[Parallel(n_jobs=1)]: Done   1 out of   1 | elapsed:   59.9s remaining:    0.0s\n"
          ]
        },
        {
          "name": "stdout",
          "output_type": "stream",
          "text": [
            "[CV]  learning_rate=0.2, max_depth=5, n_estimators=200, subsample=0.5, score=1.000, total=  56.2s\n",
            "[CV] learning_rate=0.2, max_depth=5, n_estimators=200, subsample=0.5 .\n"
          ]
        },
        {
          "name": "stderr",
          "output_type": "stream",
          "text": [
            "[Parallel(n_jobs=1)]: Done   2 out of   2 | elapsed:  1.9min remaining:    0.0s\n"
          ]
        },
        {
          "name": "stdout",
          "output_type": "stream",
          "text": [
            "[CV]  learning_rate=0.2, max_depth=5, n_estimators=200, subsample=0.5, score=1.000, total=  56.8s\n",
            "[CV] learning_rate=0.2, max_depth=5, n_estimators=200, subsample=0.5 .\n",
            "[CV]  learning_rate=0.2, max_depth=5, n_estimators=200, subsample=0.5, score=1.000, total= 1.1min\n",
            "[CV] learning_rate=0.2, max_depth=5, n_estimators=200, subsample=0.5 .\n",
            "[CV]  learning_rate=0.2, max_depth=5, n_estimators=200, subsample=0.5, score=1.000, total=  56.3s\n",
            "[CV] learning_rate=0.2, max_depth=5, n_estimators=200, subsample=0.7 .\n",
            "[CV]  learning_rate=0.2, max_depth=5, n_estimators=200, subsample=0.7, score=1.000, total=  58.1s\n",
            "[CV] learning_rate=0.2, max_depth=5, n_estimators=200, subsample=0.7 .\n",
            "[CV]  learning_rate=0.2, max_depth=5, n_estimators=200, subsample=0.7, score=1.000, total=  56.4s\n",
            "[CV] learning_rate=0.2, max_depth=5, n_estimators=200, subsample=0.7 .\n",
            "[CV]  learning_rate=0.2, max_depth=5, n_estimators=200, subsample=0.7, score=1.000, total=  59.9s\n",
            "[CV] learning_rate=0.2, max_depth=5, n_estimators=200, subsample=0.7 .\n",
            "[CV]  learning_rate=0.2, max_depth=5, n_estimators=200, subsample=0.7, score=1.000, total=  59.1s\n",
            "[CV] learning_rate=0.2, max_depth=5, n_estimators=200, subsample=0.7 .\n",
            "[CV]  learning_rate=0.2, max_depth=5, n_estimators=200, subsample=0.7, score=1.000, total=  57.6s\n",
            "[CV] learning_rate=0.2, max_depth=5, n_estimators=200, subsample=0.9 .\n",
            "[CV]  learning_rate=0.2, max_depth=5, n_estimators=200, subsample=0.9, score=1.000, total= 1.0min\n",
            "[CV] learning_rate=0.2, max_depth=5, n_estimators=200, subsample=0.9 .\n",
            "[CV]  learning_rate=0.2, max_depth=5, n_estimators=200, subsample=0.9, score=1.000, total= 1.0min\n",
            "[CV] learning_rate=0.2, max_depth=5, n_estimators=200, subsample=0.9 .\n",
            "[CV]  learning_rate=0.2, max_depth=5, n_estimators=200, subsample=0.9, score=1.000, total= 1.0min\n",
            "[CV] learning_rate=0.2, max_depth=5, n_estimators=200, subsample=0.9 .\n",
            "[CV]  learning_rate=0.2, max_depth=5, n_estimators=200, subsample=0.9, score=1.000, total= 1.0min\n",
            "[CV] learning_rate=0.2, max_depth=5, n_estimators=200, subsample=0.9 .\n",
            "[CV]  learning_rate=0.2, max_depth=5, n_estimators=200, subsample=0.9, score=1.000, total= 1.0min\n",
            "[CV] learning_rate=0.2, max_depth=5, n_estimators=300, subsample=0.5 .\n",
            "[CV]  learning_rate=0.2, max_depth=5, n_estimators=300, subsample=0.5, score=1.000, total= 1.3min\n",
            "[CV] learning_rate=0.2, max_depth=5, n_estimators=300, subsample=0.5 .\n",
            "[CV]  learning_rate=0.2, max_depth=5, n_estimators=300, subsample=0.5, score=1.000, total= 1.4min\n",
            "[CV] learning_rate=0.2, max_depth=5, n_estimators=300, subsample=0.5 .\n",
            "[CV]  learning_rate=0.2, max_depth=5, n_estimators=300, subsample=0.5, score=1.000, total= 1.3min\n",
            "[CV] learning_rate=0.2, max_depth=5, n_estimators=300, subsample=0.5 .\n",
            "[CV]  learning_rate=0.2, max_depth=5, n_estimators=300, subsample=0.5, score=1.000, total= 1.3min\n",
            "[CV] learning_rate=0.2, max_depth=5, n_estimators=300, subsample=0.5 .\n",
            "[CV]  learning_rate=0.2, max_depth=5, n_estimators=300, subsample=0.5, score=1.000, total= 1.3min\n",
            "[CV] learning_rate=0.2, max_depth=5, n_estimators=300, subsample=0.7 .\n",
            "[CV]  learning_rate=0.2, max_depth=5, n_estimators=300, subsample=0.7, score=1.000, total= 1.4min\n",
            "[CV] learning_rate=0.2, max_depth=5, n_estimators=300, subsample=0.7 .\n",
            "[CV]  learning_rate=0.2, max_depth=5, n_estimators=300, subsample=0.7, score=1.000, total= 1.5min\n",
            "[CV] learning_rate=0.2, max_depth=5, n_estimators=300, subsample=0.7 .\n",
            "[CV]  learning_rate=0.2, max_depth=5, n_estimators=300, subsample=0.7, score=1.000, total= 1.4min\n",
            "[CV] learning_rate=0.2, max_depth=5, n_estimators=300, subsample=0.7 .\n",
            "[CV]  learning_rate=0.2, max_depth=5, n_estimators=300, subsample=0.7, score=1.000, total= 1.4min\n",
            "[CV] learning_rate=0.2, max_depth=5, n_estimators=300, subsample=0.7 .\n",
            "[CV]  learning_rate=0.2, max_depth=5, n_estimators=300, subsample=0.7, score=1.000, total= 1.4min\n",
            "[CV] learning_rate=0.2, max_depth=5, n_estimators=300, subsample=0.9 .\n",
            "[CV]  learning_rate=0.2, max_depth=5, n_estimators=300, subsample=0.9, score=1.000, total= 1.3min\n",
            "[CV] learning_rate=0.2, max_depth=5, n_estimators=300, subsample=0.9 .\n",
            "[CV]  learning_rate=0.2, max_depth=5, n_estimators=300, subsample=0.9, score=1.000, total= 1.2min\n",
            "[CV] learning_rate=0.2, max_depth=5, n_estimators=300, subsample=0.9 .\n",
            "[CV]  learning_rate=0.2, max_depth=5, n_estimators=300, subsample=0.9, score=1.000, total= 1.2min\n",
            "[CV] learning_rate=0.2, max_depth=5, n_estimators=300, subsample=0.9 .\n",
            "[CV]  learning_rate=0.2, max_depth=5, n_estimators=300, subsample=0.9, score=1.000, total= 1.2min\n",
            "[CV] learning_rate=0.2, max_depth=5, n_estimators=300, subsample=0.9 .\n",
            "[CV]  learning_rate=0.2, max_depth=5, n_estimators=300, subsample=0.9, score=1.000, total= 1.2min\n",
            "[CV] learning_rate=0.2, max_depth=6, n_estimators=200, subsample=0.5 .\n",
            "[CV]  learning_rate=0.2, max_depth=6, n_estimators=200, subsample=0.5, score=1.000, total=  49.0s\n",
            "[CV] learning_rate=0.2, max_depth=6, n_estimators=200, subsample=0.5 .\n",
            "[CV]  learning_rate=0.2, max_depth=6, n_estimators=200, subsample=0.5, score=1.000, total=  53.8s\n",
            "[CV] learning_rate=0.2, max_depth=6, n_estimators=200, subsample=0.5 .\n",
            "[CV]  learning_rate=0.2, max_depth=6, n_estimators=200, subsample=0.5, score=1.000, total=  55.6s\n",
            "[CV] learning_rate=0.2, max_depth=6, n_estimators=200, subsample=0.5 .\n",
            "[CV]  learning_rate=0.2, max_depth=6, n_estimators=200, subsample=0.5, score=1.000, total=  50.4s\n",
            "[CV] learning_rate=0.2, max_depth=6, n_estimators=200, subsample=0.5 .\n",
            "[CV]  learning_rate=0.2, max_depth=6, n_estimators=200, subsample=0.5, score=1.000, total=  48.6s\n",
            "[CV] learning_rate=0.2, max_depth=6, n_estimators=200, subsample=0.7 .\n",
            "[CV]  learning_rate=0.2, max_depth=6, n_estimators=200, subsample=0.7, score=1.000, total=  51.5s\n",
            "[CV] learning_rate=0.2, max_depth=6, n_estimators=200, subsample=0.7 .\n",
            "[CV]  learning_rate=0.2, max_depth=6, n_estimators=200, subsample=0.7, score=1.000, total=  51.6s\n",
            "[CV] learning_rate=0.2, max_depth=6, n_estimators=200, subsample=0.7 .\n",
            "[CV]  learning_rate=0.2, max_depth=6, n_estimators=200, subsample=0.7, score=1.000, total=  51.4s\n",
            "[CV] learning_rate=0.2, max_depth=6, n_estimators=200, subsample=0.7 .\n",
            "[CV]  learning_rate=0.2, max_depth=6, n_estimators=200, subsample=0.7, score=1.000, total=  51.9s\n",
            "[CV] learning_rate=0.2, max_depth=6, n_estimators=200, subsample=0.7 .\n",
            "[CV]  learning_rate=0.2, max_depth=6, n_estimators=200, subsample=0.7, score=1.000, total=  53.5s\n",
            "[CV] learning_rate=0.2, max_depth=6, n_estimators=200, subsample=0.9 .\n",
            "[CV]  learning_rate=0.2, max_depth=6, n_estimators=200, subsample=0.9, score=1.000, total=  53.4s\n",
            "[CV] learning_rate=0.2, max_depth=6, n_estimators=200, subsample=0.9 .\n",
            "[CV]  learning_rate=0.2, max_depth=6, n_estimators=200, subsample=0.9, score=1.000, total=  54.2s\n",
            "[CV] learning_rate=0.2, max_depth=6, n_estimators=200, subsample=0.9 .\n",
            "[CV]  learning_rate=0.2, max_depth=6, n_estimators=200, subsample=0.9, score=1.000, total=  57.0s\n",
            "[CV] learning_rate=0.2, max_depth=6, n_estimators=200, subsample=0.9 .\n",
            "[CV]  learning_rate=0.2, max_depth=6, n_estimators=200, subsample=0.9, score=1.000, total=  54.5s\n",
            "[CV] learning_rate=0.2, max_depth=6, n_estimators=200, subsample=0.9 .\n",
            "[CV]  learning_rate=0.2, max_depth=6, n_estimators=200, subsample=0.9, score=1.000, total=  53.5s\n",
            "[CV] learning_rate=0.2, max_depth=6, n_estimators=300, subsample=0.5 .\n",
            "[CV]  learning_rate=0.2, max_depth=6, n_estimators=300, subsample=0.5, score=1.000, total= 1.2min\n",
            "[CV] learning_rate=0.2, max_depth=6, n_estimators=300, subsample=0.5 .\n",
            "[CV]  learning_rate=0.2, max_depth=6, n_estimators=300, subsample=0.5, score=1.000, total= 1.2min\n",
            "[CV] learning_rate=0.2, max_depth=6, n_estimators=300, subsample=0.5 .\n",
            "[CV]  learning_rate=0.2, max_depth=6, n_estimators=300, subsample=0.5, score=1.000, total= 1.2min\n",
            "[CV] learning_rate=0.2, max_depth=6, n_estimators=300, subsample=0.5 .\n",
            "[CV]  learning_rate=0.2, max_depth=6, n_estimators=300, subsample=0.5, score=1.000, total= 1.2min\n",
            "[CV] learning_rate=0.2, max_depth=6, n_estimators=300, subsample=0.5 .\n",
            "[CV]  learning_rate=0.2, max_depth=6, n_estimators=300, subsample=0.5, score=1.000, total= 1.2min\n",
            "[CV] learning_rate=0.2, max_depth=6, n_estimators=300, subsample=0.7 .\n",
            "[CV]  learning_rate=0.2, max_depth=6, n_estimators=300, subsample=0.7, score=1.000, total= 1.3min\n",
            "[CV] learning_rate=0.2, max_depth=6, n_estimators=300, subsample=0.7 .\n"
          ]
        },
        {
          "name": "stdout",
          "output_type": "stream",
          "text": [
            "[CV]  learning_rate=0.2, max_depth=6, n_estimators=300, subsample=0.7, score=1.000, total= 1.2min\n",
            "[CV] learning_rate=0.2, max_depth=6, n_estimators=300, subsample=0.7 .\n",
            "[CV]  learning_rate=0.2, max_depth=6, n_estimators=300, subsample=0.7, score=1.000, total= 1.2min\n",
            "[CV] learning_rate=0.2, max_depth=6, n_estimators=300, subsample=0.7 .\n",
            "[CV]  learning_rate=0.2, max_depth=6, n_estimators=300, subsample=0.7, score=1.000, total= 1.2min\n",
            "[CV] learning_rate=0.2, max_depth=6, n_estimators=300, subsample=0.7 .\n",
            "[CV]  learning_rate=0.2, max_depth=6, n_estimators=300, subsample=0.7, score=1.000, total= 1.2min\n",
            "[CV] learning_rate=0.2, max_depth=6, n_estimators=300, subsample=0.9 .\n",
            "[CV]  learning_rate=0.2, max_depth=6, n_estimators=300, subsample=0.9, score=1.000, total= 1.3min\n",
            "[CV] learning_rate=0.2, max_depth=6, n_estimators=300, subsample=0.9 .\n",
            "[CV]  learning_rate=0.2, max_depth=6, n_estimators=300, subsample=0.9, score=1.000, total= 1.3min\n",
            "[CV] learning_rate=0.2, max_depth=6, n_estimators=300, subsample=0.9 .\n",
            "[CV]  learning_rate=0.2, max_depth=6, n_estimators=300, subsample=0.9, score=1.000, total= 1.4min\n",
            "[CV] learning_rate=0.2, max_depth=6, n_estimators=300, subsample=0.9 .\n",
            "[CV]  learning_rate=0.2, max_depth=6, n_estimators=300, subsample=0.9, score=1.000, total= 1.1min\n",
            "[CV] learning_rate=0.2, max_depth=6, n_estimators=300, subsample=0.9 .\n",
            "[CV]  learning_rate=0.2, max_depth=6, n_estimators=300, subsample=0.9, score=1.000, total= 1.2min\n"
          ]
        },
        {
          "name": "stderr",
          "output_type": "stream",
          "text": [
            "[Parallel(n_jobs=1)]: Done  60 out of  60 | elapsed: 66.3min finished\n"
          ]
        },
        {
          "data": {
            "text/plain": [
              "GridSearchCV(estimator=XGBClassifier(base_score=None, booster=None,\n",
              "                                     colsample_bylevel=None,\n",
              "                                     colsample_bynode=None,\n",
              "                                     colsample_bytree=None, gamma=None,\n",
              "                                     gpu_id=None, importance_type='gain',\n",
              "                                     interaction_constraints=None,\n",
              "                                     learning_rate=None, max_delta_step=None,\n",
              "                                     max_depth=None, min_child_weight=None,\n",
              "                                     missing=nan, monotone_constraints=None,\n",
              "                                     n_estimators=100, n_jobs=None,\n",
              "                                     num_parallel_tree=None, random_state=None,\n",
              "                                     reg_alpha=None, reg_lambda=None,\n",
              "                                     scale_pos_weight=None, subsample=None,\n",
              "                                     tree_method=None, validate_parameters=None,\n",
              "                                     verbosity=None),\n",
              "             param_grid={'learning_rate': [0.2], 'max_depth': [5, 6],\n",
              "                         'n_estimators': [200, 300],\n",
              "                         'subsample': [0.5, 0.7, 0.9]},\n",
              "             verbose=3)"
            ]
          },
          "execution_count": 81,
          "metadata": {},
          "output_type": "execute_result"
        }
      ],
      "source": [
        "model_5.fit(Xres,yres)"
      ]
    },
    {
      "cell_type": "code",
      "execution_count": null,
      "id": "cdec7929",
      "metadata": {
        "id": "cdec7929",
        "outputId": "1621e999-eaff-4ded-a5f5-2c16d5de27f9"
      },
      "outputs": [
        {
          "data": {
            "text/plain": [
              "{'learning_rate': 0.2, 'max_depth': 5, 'n_estimators': 200, 'subsample': 0.5}"
            ]
          },
          "execution_count": 82,
          "metadata": {},
          "output_type": "execute_result"
        }
      ],
      "source": [
        "model_5.best_params_"
      ]
    },
    {
      "cell_type": "code",
      "execution_count": null,
      "id": "a0eecf04",
      "metadata": {
        "id": "a0eecf04",
        "outputId": "cd7a35f0-6f29-407a-bd7f-617957131d29"
      },
      "outputs": [
        {
          "data": {
            "text/plain": [
              "XGBClassifier(base_score=0.5, booster='gbtree', colsample_bylevel=1,\n",
              "              colsample_bynode=1, colsample_bytree=1, gamma=0, gpu_id=-1,\n",
              "              importance_type='gain', interaction_constraints='',\n",
              "              learning_rate=0.2, max_delta_step=0, max_depth=5,\n",
              "              min_child_weight=1, missing=nan, monotone_constraints='()',\n",
              "              n_estimators=200, n_jobs=0, num_parallel_tree=1,\n",
              "              objective='multi:softprob', random_state=0, reg_alpha=0,\n",
              "              reg_lambda=1, scale_pos_weight=None, subsample=0.5,\n",
              "              tree_method='exact', validate_parameters=1, verbosity=None)"
            ]
          },
          "execution_count": 83,
          "metadata": {},
          "output_type": "execute_result"
        }
      ],
      "source": [
        "model_5.best_estimator_"
      ]
    },
    {
      "cell_type": "code",
      "execution_count": null,
      "id": "680887e1",
      "metadata": {
        "id": "680887e1"
      },
      "outputs": [],
      "source": [
        "pred_5 = model_5.predict(X_test)"
      ]
    },
    {
      "cell_type": "code",
      "execution_count": null,
      "id": "5a5d5ed4",
      "metadata": {
        "id": "5a5d5ed4",
        "outputId": "cc10e6ad-0053-4fd9-a572-3a4a5efd3417"
      },
      "outputs": [
        {
          "name": "stdout",
          "output_type": "stream",
          "text": [
            "Accuracy of 4th test model:  81.8871977440094\n"
          ]
        }
      ],
      "source": [
        "score_5 = model_5.score(X_test,y_test)\n",
        "print(\"Accuracy of 4th test model: \",score_5*100)"
      ]
    },
    {
      "cell_type": "code",
      "execution_count": null,
      "id": "059e682e",
      "metadata": {
        "id": "059e682e",
        "outputId": "0e3b4929-1b79-4958-e725-8a4364165a6f"
      },
      "outputs": [
        {
          "name": "stdout",
          "output_type": "stream",
          "text": [
            "Fitting 5 folds for each of 18 candidates, totalling 90 fits\n"
          ]
        },
        {
          "name": "stderr",
          "output_type": "stream",
          "text": [
            "[Parallel(n_jobs=-1)]: Using backend LokyBackend with 8 concurrent workers.\n",
            "[Parallel(n_jobs=-1)]: Done  16 tasks      | elapsed: 16.3min\n",
            "[Parallel(n_jobs=-1)]: Done  90 out of  90 | elapsed: 109.4min finished\n"
          ]
        },
        {
          "data": {
            "text/plain": [
              "GridSearchCV(cv=5,\n",
              "             estimator=XGBClassifier(base_score=None, booster=None,\n",
              "                                     colsample_bylevel=None,\n",
              "                                     colsample_bynode=None,\n",
              "                                     colsample_bytree=None, gamma=None,\n",
              "                                     gpu_id=None, importance_type='gain',\n",
              "                                     interaction_constraints=None,\n",
              "                                     learning_rate=None, max_delta_step=None,\n",
              "                                     max_depth=None, min_child_weight=None,\n",
              "                                     missing=nan, monotone_constraints=None,\n",
              "                                     n_estimators=100, n_jobs=None,\n",
              "                                     num_parallel_tree=None, random_state=None,\n",
              "                                     reg_alpha=None, reg_lambda=None,\n",
              "                                     scale_pos_weight=None, subsample=None,\n",
              "                                     tree_method=None, validate_parameters=None,\n",
              "                                     verbosity=None),\n",
              "             n_jobs=-1,\n",
              "             param_grid={'learning_rate': [0.2, 0.3], 'max_depth': [5],\n",
              "                         'n_estimators': [200, 300, 500],\n",
              "                         'subsample': [0.5, 0.6, 0.7]},\n",
              "             verbose=3)"
            ]
          },
          "execution_count": 87,
          "metadata": {},
          "output_type": "execute_result"
        }
      ],
      "source": [
        "params_6 = {'max_depth':[5], 'n_estimators': [200,300,500],\n",
        "            'learning_rate': [0.20,0.30], 'subsample':[0.5,0.6,0.7]}\n",
        "model_6 = GridSearchCV(XGBClassifier(),params_4,refit=True,verbose=3,\n",
        "                       cv=5,n_jobs=-1)\n",
        "model_6.fit(Xres,yres)"
      ]
    },
    {
      "cell_type": "code",
      "execution_count": null,
      "id": "d1a7ad1f",
      "metadata": {
        "id": "d1a7ad1f",
        "outputId": "52a84339-87a2-4dc5-fefc-491d02b5f436"
      },
      "outputs": [
        {
          "data": {
            "text/plain": [
              "{'learning_rate': 0.3, 'max_depth': 5, 'n_estimators': 500, 'subsample': 0.6}"
            ]
          },
          "execution_count": 88,
          "metadata": {},
          "output_type": "execute_result"
        }
      ],
      "source": [
        "model_6.best_params_"
      ]
    },
    {
      "cell_type": "code",
      "execution_count": null,
      "id": "d1fc0650",
      "metadata": {
        "id": "d1fc0650",
        "outputId": "129e02b1-8a74-4159-b22b-a1058d154364"
      },
      "outputs": [
        {
          "data": {
            "text/plain": [
              "XGBClassifier(base_score=0.5, booster='gbtree', colsample_bylevel=1,\n",
              "              colsample_bynode=1, colsample_bytree=1, gamma=0, gpu_id=-1,\n",
              "              importance_type='gain', interaction_constraints='',\n",
              "              learning_rate=0.3, max_delta_step=0, max_depth=5,\n",
              "              min_child_weight=1, missing=nan, monotone_constraints='()',\n",
              "              n_estimators=500, n_jobs=0, num_parallel_tree=1,\n",
              "              objective='multi:softprob', random_state=0, reg_alpha=0,\n",
              "              reg_lambda=1, scale_pos_weight=None, subsample=0.6,\n",
              "              tree_method='exact', validate_parameters=1, verbosity=None)"
            ]
          },
          "execution_count": 89,
          "metadata": {},
          "output_type": "execute_result"
        }
      ],
      "source": [
        "model_6.best_estimator_"
      ]
    },
    {
      "cell_type": "code",
      "execution_count": null,
      "id": "2c133bc8",
      "metadata": {
        "id": "2c133bc8"
      },
      "outputs": [],
      "source": [
        "pred_6 = model_6.predict(X_test)"
      ]
    },
    {
      "cell_type": "code",
      "execution_count": null,
      "id": "9588435a",
      "metadata": {
        "id": "9588435a",
        "outputId": "958f523f-d77f-4c62-f448-dfe5e503dce1"
      },
      "outputs": [
        {
          "name": "stdout",
          "output_type": "stream",
          "text": [
            "Accuracy of 5th model:  90.48741227574007\n"
          ]
        }
      ],
      "source": [
        "score_6 = model_6.score(X_test,y_test)\n",
        "print(\"Accuracy of 5th model: \",score_6*100)"
      ]
    },
    {
      "cell_type": "code",
      "execution_count": null,
      "id": "65bfb854",
      "metadata": {
        "id": "65bfb854",
        "outputId": "dde3195c-06b0-43ad-b918-6f30f226b49f"
      },
      "outputs": [
        {
          "name": "stdout",
          "output_type": "stream",
          "text": [
            "Results of various Parameter tuned models \n",
            "Base model 0:  61.75 %\n",
            "Test model 1:  81.89 %\n",
            "Test model 2:  72.12 %\n",
            "Test model 3:  67.01 %\n",
            "Test model 4:  81.89 %\n",
            "Test model 5:  90.49 %\n"
          ]
        }
      ],
      "source": [
        "print(\"Results of various Parameter tuned models \")\n",
        "print(\"Base model 0: \",round(score1*100,2),\"%\")\n",
        "print(\"Test model 1: \",round(score_2*100,2),\"%\")\n",
        "print(\"Test model 2: \",round(score_3*100,2),\"%\")\n",
        "print(\"Test model 3: \",round(score_4*100,2),\"%\")\n",
        "print(\"Test model 4: \",round(score_5*100,2),\"%\")\n",
        "print(\"Test model 5: \",round(score_6*100,2),\"%\")"
      ]
    },
    {
      "cell_type": "markdown",
      "id": "cbf8acdd",
      "metadata": {
        "id": "cbf8acdd"
      },
      "source": [
        "So after hyperparameter tuning, Accuracy has increased from 61.75% to 90.49%.  "
      ]
    },
    {
      "cell_type": "markdown",
      "id": "57641d6e",
      "metadata": {
        "id": "57641d6e"
      },
      "source": [
        "### K Fold Cross Validation"
      ]
    },
    {
      "cell_type": "code",
      "execution_count": null,
      "id": "3096086c",
      "metadata": {
        "id": "3096086c"
      },
      "outputs": [],
      "source": [
        "# from sklearn.model_selection import KFold,StratifiedKFold,cross_val_score\n",
        "# def evaluate_model(model):\n",
        "    \n",
        "#     KF=KFold(n_splits=10,shuffle=True,random_state=42)\n",
        "#     score1 = cross_val_score(model, Xres, yres, scoring='accuracy', cv=KF)\n",
        "    \n",
        "#     SKF= StratifiedKFold(n_splits=10,shuffle=True)\n",
        "#     score2 = cross_val_score(model, Xres, yres, scoring='accuracy', cv=SKF)\n",
        "    \n",
        "#     list_scores=[np.mean(score1),np.mean(score2)]\n",
        "    \n",
        "#     return list_scores\n"
      ]
    },
    {
      "cell_type": "code",
      "execution_count": null,
      "id": "45fd07a7",
      "metadata": {
        "scrolled": true,
        "id": "45fd07a7"
      },
      "outputs": [],
      "source": [
        "# names=[\"KFold\",\"Stratified KFold\"]\n",
        "# print(\"KFOLD CROSS VALIDATION SCORES\")\n",
        "# print(\"(For Base Model 0)\")\n",
        "# scores_k1 = evaluate_model(model_1)\n",
        "\n",
        "# for (i,j) in zip(scores_k1,names):\n",
        "#     print(j,\"-\",round(i*100,2),'%')\n",
        "   "
      ]
    },
    {
      "cell_type": "markdown",
      "id": "4ade0233",
      "metadata": {
        "id": "4ade0233"
      },
      "source": [
        "### Results"
      ]
    },
    {
      "cell_type": "code",
      "execution_count": null,
      "id": "29b0083d",
      "metadata": {
        "id": "29b0083d"
      },
      "outputs": [],
      "source": [
        "from sklearn.metrics import classification_report,confusion_matrix\n",
        "from sklearn.metrics import accuracy_score, f1_score, auc, roc_curve, roc_auc_score\n",
        "from sklearn import metrics\n"
      ]
    },
    {
      "cell_type": "code",
      "execution_count": null,
      "id": "5941733f",
      "metadata": {
        "id": "5941733f",
        "outputId": "e8a000cd-e794-40fb-ae78-c2df174d3e5a"
      },
      "outputs": [
        {
          "name": "stdout",
          "output_type": "stream",
          "text": [
            "Results of various Parameter tuned models \n",
            "Base model 0:  61.75 %\n",
            "Test model 1:  81.89 %\n",
            "Test model 2:  72.12 %\n",
            "Test model 3:  67.01 %\n",
            "Test model 4:  81.89 %\n",
            "Test model 5:  90.49 %\n"
          ]
        }
      ],
      "source": [
        "print(\"Results of various Parameter tuned models \")\n",
        "print(\"Base model 0: \",round(score1*100,2),\"%\")\n",
        "print(\"Test model 1: \",round(score_2*100,2),\"%\")\n",
        "print(\"Test model 2: \",round(score_3*100,2),\"%\")\n",
        "print(\"Test model 3: \",round(score_4*100,2),\"%\")\n",
        "print(\"Test model 4: \",round(score_5*100,2),\"%\")\n",
        "print(\"Test model 5: \",round(score_6*100,2),\"%\")"
      ]
    },
    {
      "cell_type": "code",
      "execution_count": null,
      "id": "5ed07aac",
      "metadata": {
        "id": "5ed07aac",
        "outputId": "bd1ef14b-a114-4428-a47c-da3180963a5e"
      },
      "outputs": [
        {
          "data": {
            "image/png": "[encoded data removed]",
            "text/plain": [
              "<Figure size 504x432 with 1 Axes>"
            ]
          },
          "metadata": {},
          "output_type": "display_data"
        }
      ],
      "source": [
        "plt.figure(figsize=(7,6))\n",
        "results = [score1*100,score_2*100,score_3*100,score_4*100,score_5*100,score_6*100]\n",
        "model_names = ['Base model 0','Test model 1','Test model 2','Test model 3','Test model 4', 'Test model 5']\n",
        "sns.barplot(x = model_names, y=results, palette='viridis')\n",
        "plt.xlabel('Models')\n",
        "plt.ylabel('Accuracy (in %)')\n",
        "plt.title('Comparison between the test models')\n",
        "plt.show()"
      ]
    },
    {
      "cell_type": "code",
      "execution_count": null,
      "id": "d5740f84",
      "metadata": {
        "scrolled": true,
        "id": "d5740f84",
        "outputId": "ab70675c-9150-48fa-ad4a-782aef7f26e0"
      },
      "outputs": [
        {
          "name": "stdout",
          "output_type": "stream",
          "text": [
            "[[378939   1481      0   4889]\n",
            " [   181 266694      0  63237]\n",
            " [     0      0    107      0]\n",
            " [     5      0      0  18158]]\n"
          ]
        }
      ],
      "source": [
        "print(confusion_matrix(y_test,pred_6))"
      ]
    },
    {
      "cell_type": "code",
      "execution_count": null,
      "id": "04f4c026",
      "metadata": {
        "id": "04f4c026",
        "outputId": "42114152-6ca5-4ed7-e136-3e273e2c2132"
      },
      "outputs": [
        {
          "name": "stdout",
          "output_type": "stream",
          "text": [
            "              precision    recall  f1-score   support\n",
            "\n",
            "           0       1.00      0.98      0.99    385309\n",
            "           1       0.99      0.81      0.89    330112\n",
            "           2       1.00      1.00      1.00       107\n",
            "           3       0.21      1.00      0.35     18163\n",
            "\n",
            "    accuracy                           0.90    733691\n",
            "   macro avg       0.80      0.95      0.81    733691\n",
            "weighted avg       0.98      0.90      0.93    733691\n",
            "\n"
          ]
        }
      ],
      "source": [
        "# Classification Report of tuned model (Test Model 5)\n",
        "print(classification_report(y_test,pred_6))"
      ]
    },
    {
      "cell_type": "markdown",
      "id": "39a2e6a2",
      "metadata": {
        "id": "39a2e6a2"
      },
      "source": [
        "##### Inferences from the report:  \n",
        " - Recall of the model is 0.90, i.e. 90% of the predicted vaues were true(1).\n",
        " - Precision of the model is 0.98, i.e. 98% of the predicted true values were correct.\n",
        " - F1-Score is also pretty high, 0.93 that means the precision and recall of our model is high.\n"
      ]
    },
    {
      "cell_type": "code",
      "execution_count": null,
      "id": "83936eaa",
      "metadata": {
        "id": "83936eaa",
        "outputId": "2d200cb1-8584-44fa-a9f9-f4fc8771f620"
      },
      "outputs": [
        {
          "name": "stdout",
          "output_type": "stream",
          "text": [
            "[[381229    647      0   3433]\n",
            " [   457  53532      0 276123]\n",
            " [     0      0    107      0]\n",
            " [     5      1      0  18157]]\n"
          ]
        }
      ],
      "source": [
        "print(confusion_matrix(y_test,pred_1))"
      ]
    },
    {
      "cell_type": "code",
      "execution_count": null,
      "id": "29bd77e7",
      "metadata": {
        "scrolled": true,
        "id": "29bd77e7",
        "outputId": "6a46bf00-93c7-4694-9f83-58d329c3651a"
      },
      "outputs": [
        {
          "name": "stdout",
          "output_type": "stream",
          "text": [
            "              precision    recall  f1-score   support\n",
            "\n",
            "           0       1.00      0.99      0.99    385309\n",
            "           1       0.99      0.16      0.28    330112\n",
            "           2       1.00      1.00      1.00       107\n",
            "           3       0.06      1.00      0.11     18163\n",
            "\n",
            "    accuracy                           0.62    733691\n",
            "   macro avg       0.76      0.79      0.60    733691\n",
            "weighted avg       0.97      0.62      0.65    733691\n",
            "\n"
          ]
        }
      ],
      "source": [
        "# Classification Report of base model\n",
        "print(classification_report(y_test,pred_1))"
      ]
    },
    {
      "cell_type": "markdown",
      "id": "bd0c66c0",
      "metadata": {
        "id": "bd0c66c0"
      },
      "source": [
        "##### Inferences from the report:  \n",
        " - Recall of the model is 0.62, i.e. 62% of the predicted vaues were true(1).\n",
        " - Precision of the model is 0.97, i.e. 97% of the predicted true values were correct.\n",
        " - F1 score is not very high, 0.65 this is due to low recall.\n"
      ]
    },
    {
      "cell_type": "code",
      "execution_count": null,
      "id": "325c8240",
      "metadata": {
        "id": "325c8240"
      },
      "outputs": [],
      "source": []
    }
  ],
  "metadata": {
    "colab": {
      "provenance": [],
      "toc_visible": true
    },
    "kernelspec": {
      "display_name": "Python 3",
      "language": "python",
      "name": "python3"
    },
    "language_info": {
      "codemirror_mode": {
        "name": "ipython",
        "version": 3
      },
      "file_extension": ".py",
      "mimetype": "text/x-python",
      "name": "python",
      "nbconvert_exporter": "python",
      "pygments_lexer": "ipython3",
      "version": "3.8.8"
    }
  },
  "nbformat": 4,
  "nbformat_minor": 5
}