{
 "cells": [
  {
   "cell_type": "markdown",
   "id": "08f76892",
   "metadata": {
    "id": "bf70be33"
   },
   "source": [
    "import pandas as pd\n",
    "import numpy as np\n",
    "import seaborn as sns\n",
    "import sklearn\n",
    "import warnings; warnings.simplefilter('ignore')\n",
    "from sklearn.preprocessing import StandardScaler\n",
    "import gc\n"
   ]
  },
  {
   "cell_type": "code",
   "execution_count": null,
   "id": "2be26f05",
   "metadata": {
    "id": "2be26f05"
   },
   "outputs": [],
   "source": [
    "data_train=pd.read_csv(\"/content/drive/MyDrive/Colab Notebooks/training.csv\")\n",
    "     \n",
    "\n",
    "data_test=pd.read_csv(\"/content/drive/MyDrive/Colab Notebooks/testing.csv\")"
   ]
  },
  {
   "cell_type": "markdown",
   "id": "wz16ffDT24hI",
   "metadata": {
    "id": "wz16ffDT24hI"
   },
   "source": [
    "Exploratory data analysis"
   ]
  },
  {
   "cell_type": "code",
   "execution_count": null,
   "id": "f840dccb",
   "metadata": {
    "id": "f840dccb"
   },
   "outputs": [],
   "source": [
    "#Dropping these three column from train and test data\n",
    "data_train.drop([\"pkSeqID\",\"seq\",\"subcategory\"], axis=1, inplace=True)\n",
    "     \n",
    "\n",
    "data_test.drop([\"pkSeqID\",\"seq\",\"subcategory\"], axis=1, inplace=True)"
   ]
  },
  {
   "cell_type": "code",
   "execution_count": null,
   "id": "3cf0c54b",
   "metadata": {
    "id": "3cf0c54b"
   },
   "outputs": [],
   "source": [
    "indexNames = data_train[data_train['category']=='Theft'].index\n",
    "data_train.drop(indexNames , inplace=True)"
   ]
  },
  {
   "cell_type": "code",
   "execution_count": null,
   "id": "8c600238",
   "metadata": {
    "id": "8c600238"
   },
   "outputs": [],
   "source": [
    "#Replacing the values\n",
    "data_train['sport']=data_train['sport'].replace(['0x0303'],'771') \n",
    "data_train['sport']=data_train['sport'].replace(['0x0011'],'17')\n",
    "data_train['sport']=data_train['sport'].replace(['0x000d'],'13')\n",
    "data_train['sport']=data_train['sport'].replace(['0x0008'],'8')\n",
    "     "
   ]
  },
  {
   "cell_type": "code",
   "execution_count": null,
   "id": "802b6382",
   "metadata": {
    "id": "802b6382"
   },
   "outputs": [],
   "source": [
    "data_train[\"sport\"] = data_train[\"sport\"].astype(str).astype(int)\n",
    "     \n",
    "\n",
    "data_test['sport']=data_test['sport'].replace(['0x0303'],'771') \n",
    "data_test['sport']=data_test['sport'].replace(['0x0011'],'17')\n",
    "data_test['sport']=data_test['sport'].replace(['0x000d'],'13')\n",
    "data_test['sport']=data_test['sport'].replace(['0x0008'],'8')\n",
    "     \n",
    "\n",
    "data_test[\"sport\"] = data_test[\"sport\"].astype(str).astype(int)\n",
    "     \n",
    "\n",
    "data_train['dport']=data_train.dport.apply(lambda x: int(x,16) if len(x)>1 and x[1]==\"x\" else int(x))\n",
    "     \n",
    "\n",
    "data_test['dport']=data_test.dport.apply(lambda x: int(x,16) if len(x)>1 and x[1]==\"x\" else int(x))"
   ]
  },
  {
   "cell_type": "code",
   "execution_count": null,
   "id": "2ab6904a",
   "metadata": {
    "id": "2ab6904a"
   },
   "outputs": [],
   "source": [
    "#One hot encoding\n",
    "from sklearn.preprocessing import LabelEncoder\n",
    "le = LabelEncoder()\n",
    "data_train[\"saddr_enc\"]= le.fit_transform(data_train.saddr)\n",
    "data_train[\"daddr_enc\"]= le.fit_transform(data_train.daddr)\n",
    "data_train[\"proto_enc\"]= le.fit_transform(data_train.proto)\n",
    "data_train[\"category_enc\"]= le.fit_transform(data_train.category)\n",
    "data_train.drop(['saddr','daddr','proto','category'], axis=1, inplace=True)"
   ]
  },
  {
   "cell_type": "code",
   "execution_count": null,
   "id": "377ca4a2",
   "metadata": {
    "id": "377ca4a2"
   },
   "outputs": [],
   "source": [
    "\n",
    "\n",
    "from sklearn.preprocessing import LabelEncoder\n",
    "le = LabelEncoder()\n",
    "data_test[\"saddr_enc\"]= le.fit_transform(data_test.saddr)\n",
    "data_test[\"daddr_enc\"]= le.fit_transform(data_test.daddr)\n",
    "data_test[\"proto_enc\"]= le.fit_transform(data_test.proto)\n",
    "data_test[\"category_enc\"]= le.fit_transform(data_test.category)\n",
    "data_test.drop(['saddr','daddr','proto','category'], axis=1, inplace=True)"
   ]
  },
  {
   "cell_type": "code",
   "execution_count": null,
   "id": "7cd3512c",
   "metadata": {
    "colab": {
     "base_uri": "https://localhost:8080/",
     "height": 206
    },
    "id": "7cd3512c",
    "outputId": "00e0615b-a6c7-438b-fc49-1c88466b1a10"
   },
   "outputs": [
    {
     "data": {
      "text/html": [
       "\n",
       "  <div id=\"df-e8fe95ab-9850-4c3d-aa02-9d9e8312daef\">\n",
       "    <div class=\"colab-df-container\">\n",
       "      <div>\n",
       "<style scoped>\n",
       "    .dataframe tbody tr th:only-of-type {\n",
       "        vertical-align: middle;\n",
       "    }\n",
       "\n",
       "    .dataframe tbody tr th {\n",
       "        vertical-align: top;\n",
       "    }\n",
       "\n",
       "    .dataframe thead th {\n",
       "        text-align: right;\n",
       "    }\n",
       "</style>\n",
       "<table border=\"1\" class=\"dataframe\">\n",
       "  <thead>\n",
       "    <tr style=\"text-align: right;\">\n",
       "      <th></th>\n",
       "      <th>sport</th>\n",
       "      <th>dport</th>\n",
       "      <th>stddev</th>\n",
       "      <th>N_IN_Conn_P_SrcIP</th>\n",
       "      <th>min</th>\n",
       "      <th>state_number</th>\n",
       "      <th>mean</th>\n",
       "      <th>N_IN_Conn_P_DstIP</th>\n",
       "      <th>drate</th>\n",
       "      <th>srate</th>\n",
       "      <th>max</th>\n",
       "      <th>attack</th>\n",
       "      <th>saddr_enc</th>\n",
       "      <th>daddr_enc</th>\n",
       "      <th>proto_enc</th>\n",
       "      <th>category_enc</th>\n",
       "    </tr>\n",
       "  </thead>\n",
       "  <tbody>\n",
       "    <tr>\n",
       "      <th>0</th>\n",
       "      <td>6551</td>\n",
       "      <td>80</td>\n",
       "      <td>1.900363</td>\n",
       "      <td>100</td>\n",
       "      <td>0.000000</td>\n",
       "      <td>4</td>\n",
       "      <td>2.687519</td>\n",
       "      <td>100</td>\n",
       "      <td>0.0</td>\n",
       "      <td>0.494549</td>\n",
       "      <td>4.031619</td>\n",
       "      <td>1</td>\n",
       "      <td>4</td>\n",
       "      <td>15</td>\n",
       "      <td>4</td>\n",
       "      <td>0</td>\n",
       "    </tr>\n",
       "    <tr>\n",
       "      <th>1</th>\n",
       "      <td>5532</td>\n",
       "      <td>80</td>\n",
       "      <td>0.078003</td>\n",
       "      <td>38</td>\n",
       "      <td>3.856930</td>\n",
       "      <td>3</td>\n",
       "      <td>3.934927</td>\n",
       "      <td>100</td>\n",
       "      <td>0.0</td>\n",
       "      <td>0.256493</td>\n",
       "      <td>4.012924</td>\n",
       "      <td>1</td>\n",
       "      <td>4</td>\n",
       "      <td>15</td>\n",
       "      <td>3</td>\n",
       "      <td>0</td>\n",
       "    </tr>\n",
       "    <tr>\n",
       "      <th>2</th>\n",
       "      <td>27165</td>\n",
       "      <td>80</td>\n",
       "      <td>0.268666</td>\n",
       "      <td>100</td>\n",
       "      <td>2.974100</td>\n",
       "      <td>3</td>\n",
       "      <td>3.341429</td>\n",
       "      <td>100</td>\n",
       "      <td>0.0</td>\n",
       "      <td>0.294880</td>\n",
       "      <td>3.609205</td>\n",
       "      <td>1</td>\n",
       "      <td>1</td>\n",
       "      <td>15</td>\n",
       "      <td>3</td>\n",
       "      <td>0</td>\n",
       "    </tr>\n",
       "    <tr>\n",
       "      <th>3</th>\n",
       "      <td>48719</td>\n",
       "      <td>80</td>\n",
       "      <td>1.823185</td>\n",
       "      <td>63</td>\n",
       "      <td>0.000000</td>\n",
       "      <td>4</td>\n",
       "      <td>3.222832</td>\n",
       "      <td>63</td>\n",
       "      <td>0.0</td>\n",
       "      <td>0.461435</td>\n",
       "      <td>4.942302</td>\n",
       "      <td>1</td>\n",
       "      <td>4</td>\n",
       "      <td>15</td>\n",
       "      <td>4</td>\n",
       "      <td>1</td>\n",
       "    </tr>\n",
       "    <tr>\n",
       "      <th>4</th>\n",
       "      <td>22461</td>\n",
       "      <td>80</td>\n",
       "      <td>0.822418</td>\n",
       "      <td>100</td>\n",
       "      <td>2.979995</td>\n",
       "      <td>4</td>\n",
       "      <td>3.983222</td>\n",
       "      <td>100</td>\n",
       "      <td>0.0</td>\n",
       "      <td>1.002999</td>\n",
       "      <td>4.994452</td>\n",
       "      <td>1</td>\n",
       "      <td>1</td>\n",
       "      <td>15</td>\n",
       "      <td>4</td>\n",
       "      <td>0</td>\n",
       "    </tr>\n",
       "  </tbody>\n",
       "</table>\n",
       "</div>\n",
       "      <button class=\"colab-df-convert\" onclick=\"convertToInteractive('df-e8fe95ab-9850-4c3d-aa02-9d9e8312daef')\"\n",
       "              title=\"Convert this dataframe to an interactive table.\"\n",
       "              style=\"display:none;\">\n",
       "        \n",
       "  <svg xmlns=\"http://www.w3.org/2000/svg\" height=\"24px\"viewBox=\"0 0 24 24\"\n",
       "       width=\"24px\">\n",
       "    <path d=\"M0 0h24v24H0V0z\" fill=\"none\"/>\n",
       "    <path d=\"M18.56 5.44l.94 2.06.94-2.06 2.06-.94-2.06-.94-.94-2.06-.94 2.06-2.06.94zm-11 1L8.5 8.5l.94-2.06 2.06-.94-2.06-.94L8.5 2.5l-.94 2.06-2.06.94zm10 10l.94 2.06.94-2.06 2.06-.94-2.06-.94-.94-2.06-.94 2.06-2.06.94z\"/><path d=\"M17.41 7.96l-1.37-1.37c-.4-.4-.92-.59-1.43-.59-.52 0-1.04.2-1.43.59L10.3 9.45l-7.72 7.72c-.78.78-.78 2.05 0 2.83L4 21.41c.39.39.9.59 1.41.59.51 0 1.02-.2 1.41-.59l7.78-7.78 2.81-2.81c.8-.78.8-2.07 0-2.86zM5.41 20L4 18.59l7.72-7.72 1.47 1.35L5.41 20z\"/>\n",
       "  </svg>\n",
       "      </button>\n",
       "      \n",
       "  <style>\n",
       "    .colab-df-container {\n",
       "      display:flex;\n",
       "      flex-wrap:wrap;\n",
       "      gap: 12px;\n",
       "    }\n",
       "\n",
       "    .colab-df-convert {\n",
       "      background-color: #E8F0FE;\n",
       "      border: none;\n",
       "      border-radius: 50%;\n",
       "      cursor: pointer;\n",
       "      display: none;\n",
       "      fill: #1967D2;\n",
       "      height: 32px;\n",
       "      padding: 0 0 0 0;\n",
       "      width: 32px;\n",
       "    }\n",
       "\n",
       "    .colab-df-convert:hover {\n",
       "      background-color: #E2EBFA;\n",
       "      box-shadow: 0px 1px 2px rgba(60, 64, 67, 0.3), 0px 1px 3px 1px rgba(60, 64, 67, 0.15);\n",
       "      fill: #174EA6;\n",
       "    }\n",
       "\n",
       "    [theme=dark] .colab-df-convert {\n",
       "      background-color: #3B4455;\n",
       "      fill: #D2E3FC;\n",
       "    }\n",
       "\n",
       "    [theme=dark] .colab-df-convert:hover {\n",
       "      background-color: #434B5C;\n",
       "      box-shadow: 0px 1px 3px 1px rgba(0, 0, 0, 0.15);\n",
       "      filter: drop-shadow(0px 1px 2px rgba(0, 0, 0, 0.3));\n",
       "      fill: #FFFFFF;\n",
       "    }\n",
       "  </style>\n",
       "\n",
       "      <script>\n",
       "        const buttonEl =\n",
       "          document.querySelector('#df-e8fe95ab-9850-4c3d-aa02-9d9e8312daef button.colab-df-convert');\n",
       "        buttonEl.style.display =\n",
       "          google.colab.kernel.accessAllowed ? 'block' : 'none';\n",
       "\n",
       "        async function convertToInteractive(key) {\n",
       "          const element = document.querySelector('#df-e8fe95ab-9850-4c3d-aa02-9d9e8312daef');\n",
       "          const dataTable =\n",
       "            await google.colab.kernel.invokeFunction('convertToInteractive',\n",
       "                                                     [key], {});\n",
       "          if (!dataTable) return;\n",
       "\n",
       "          const docLinkHtml = 'Like what you see? Visit the ' +\n",
       "            '<a target=\"_blank\" href=https://colab.research.google.com/notebooks/data_table.ipynb>data table notebook</a>'\n",
       "            + ' to learn more about interactive tables.';\n",
       "          element.innerHTML = '';\n",
       "          dataTable['output_type'] = 'display_data';\n",
       "          await google.colab.output.renderOutput(dataTable, element);\n",
       "          const docLink = document.createElement('div');\n",
       "          docLink.innerHTML = docLinkHtml;\n",
       "          element.appendChild(docLink);\n",
       "        }\n",
       "      </script>\n",
       "    </div>\n",
       "  </div>\n",
       "  "
      ],
      "text/plain": [
       "   sport  dport    stddev  N_IN_Conn_P_SrcIP       min  state_number  \\\n",
       "0   6551     80  1.900363                100  0.000000             4   \n",
       "1   5532     80  0.078003                 38  3.856930             3   \n",
       "2  27165     80  0.268666                100  2.974100             3   \n",
       "3  48719     80  1.823185                 63  0.000000             4   \n",
       "4  22461     80  0.822418                100  2.979995             4   \n",
       "\n",
       "       mean  N_IN_Conn_P_DstIP  drate     srate       max  attack  saddr_enc  \\\n",
       "0  2.687519                100    0.0  0.494549  4.031619       1          4   \n",
       "1  3.934927                100    0.0  0.256493  4.012924       1          4   \n",
       "2  3.341429                100    0.0  0.294880  3.609205       1          1   \n",
       "3  3.222832                 63    0.0  0.461435  4.942302       1          4   \n",
       "4  3.983222                100    0.0  1.002999  4.994452       1          1   \n",
       "\n",
       "   daddr_enc  proto_enc  category_enc  \n",
       "0         15          4             0  \n",
       "1         15          3             0  \n",
       "2         15          3             0  \n",
       "3         15          4             1  \n",
       "4         15          4             0  "
      ]
     },
     "execution_count": 22,
     "metadata": {},
     "output_type": "execute_result"
    }
   ],
   "source": [
    "data_train.head()\n"
   ]
  },
  {
   "cell_type": "code",
   "execution_count": null,
   "id": "d6ed214d",
   "metadata": {
    "colab": {
     "base_uri": "https://localhost:8080/"
    },
    "id": "d6ed214d",
    "outputId": "4514392b-ae7e-450c-de0c-f8a95844bcb5"
   },
   "outputs": [
    {
     "data": {
      "text/plain": [
       "49"
      ]
     },
     "execution_count": 23,
     "metadata": {},
     "output_type": "execute_result"
    }
   ],
   "source": [
    "gc.collect()"
   ]
  },
  {
   "cell_type": "code",
   "execution_count": null,
   "id": "e62825b9",
   "metadata": {
    "id": "e62825b9"
   },
   "outputs": [],
   "source": [
    "# Assuming \"category_enc\" is a column name in the data_train and data_test DataFrames\n",
    "\n",
    "import pandas as pd\n",
    "from sklearn.preprocessing import StandardScaler\n",
    "\n",
    "# Accessing \"category_enc\" column from data_train DataFrame\n",
    "y_train = data_train[\"category_enc\"]\n",
    "\n",
    "# Accessing \"category_enc\" column from data_test DataFrame\n",
    "y_test = data_test[\"category_enc\"]\n",
    "\n",
    "# Scaling features in data_train DataFrame\n",
    "scaler = StandardScaler()\n",
    "features_train = data_train.iloc[:,:-1]\n",
    "cols_train = features_train.columns\n",
    "scaled_features_train = scaler.fit_transform(features_train)\n",
    "train = pd.DataFrame(scaled_features_train, columns=cols_train)\n",
    "\n",
    "# Scaling features in data_test DataFrame\n",
    "features_test = data_test.iloc[:,:-1]\n",
    "cols_test = features_test.columns\n",
    "scaled_features_test = scaler.transform(features_test) # Using transform instead of fit_transform for test data\n",
    "test = pd.DataFrame(scaled_features_test, columns=cols_test)\n"
   ]
  },
  {
   "cell_type": "code",
   "execution_count": null,
   "id": "e4396f1e",
   "metadata": {
    "colab": {
     "base_uri": "https://localhost:8080/",
     "height": 487
    },
    "id": "e4396f1e",
    "outputId": "526992b9-0fa1-4ce3-931c-fc7985708abd"
   },
   "outputs": [
    {
     "data": {
      "text/html": [
       "\n",
       "  <div id=\"df-8589dfe5-1390-4cc0-882e-445f56e90e15\">\n",
       "    <div class=\"colab-df-container\">\n",
       "      <div>\n",
       "<style scoped>\n",
       "    .dataframe tbody tr th:only-of-type {\n",
       "        vertical-align: middle;\n",
       "    }\n",
       "\n",
       "    .dataframe tbody tr th {\n",
       "        vertical-align: top;\n",
       "    }\n",
       "\n",
       "    .dataframe thead th {\n",
       "        text-align: right;\n",
       "    }\n",
       "</style>\n",
       "<table border=\"1\" class=\"dataframe\">\n",
       "  <thead>\n",
       "    <tr style=\"text-align: right;\">\n",
       "      <th></th>\n",
       "      <th>sport</th>\n",
       "      <th>dport</th>\n",
       "      <th>stddev</th>\n",
       "      <th>N_IN_Conn_P_SrcIP</th>\n",
       "      <th>min</th>\n",
       "      <th>state_number</th>\n",
       "      <th>mean</th>\n",
       "      <th>N_IN_Conn_P_DstIP</th>\n",
       "      <th>drate</th>\n",
       "      <th>srate</th>\n",
       "      <th>max</th>\n",
       "      <th>attack</th>\n",
       "      <th>saddr_enc</th>\n",
       "      <th>daddr_enc</th>\n",
       "      <th>proto_enc</th>\n",
       "      <th>category_enc</th>\n",
       "    </tr>\n",
       "  </thead>\n",
       "  <tbody>\n",
       "    <tr>\n",
       "      <th>0</th>\n",
       "      <td>6551</td>\n",
       "      <td>80</td>\n",
       "      <td>1.900363</td>\n",
       "      <td>100</td>\n",
       "      <td>0.000000</td>\n",
       "      <td>4</td>\n",
       "      <td>2.687519</td>\n",
       "      <td>100</td>\n",
       "      <td>0.000000</td>\n",
       "      <td>0.494549</td>\n",
       "      <td>4.031619</td>\n",
       "      <td>1</td>\n",
       "      <td>4</td>\n",
       "      <td>15</td>\n",
       "      <td>4</td>\n",
       "      <td>0</td>\n",
       "    </tr>\n",
       "    <tr>\n",
       "      <th>1</th>\n",
       "      <td>5532</td>\n",
       "      <td>80</td>\n",
       "      <td>0.078003</td>\n",
       "      <td>38</td>\n",
       "      <td>3.856930</td>\n",
       "      <td>3</td>\n",
       "      <td>3.934927</td>\n",
       "      <td>100</td>\n",
       "      <td>0.000000</td>\n",
       "      <td>0.256493</td>\n",
       "      <td>4.012924</td>\n",
       "      <td>1</td>\n",
       "      <td>4</td>\n",
       "      <td>15</td>\n",
       "      <td>3</td>\n",
       "      <td>0</td>\n",
       "    </tr>\n",
       "    <tr>\n",
       "      <th>2</th>\n",
       "      <td>27165</td>\n",
       "      <td>80</td>\n",
       "      <td>0.268666</td>\n",
       "      <td>100</td>\n",
       "      <td>2.974100</td>\n",
       "      <td>3</td>\n",
       "      <td>3.341429</td>\n",
       "      <td>100</td>\n",
       "      <td>0.000000</td>\n",
       "      <td>0.294880</td>\n",
       "      <td>3.609205</td>\n",
       "      <td>1</td>\n",
       "      <td>1</td>\n",
       "      <td>15</td>\n",
       "      <td>3</td>\n",
       "      <td>0</td>\n",
       "    </tr>\n",
       "    <tr>\n",
       "      <th>3</th>\n",
       "      <td>48719</td>\n",
       "      <td>80</td>\n",
       "      <td>1.823185</td>\n",
       "      <td>63</td>\n",
       "      <td>0.000000</td>\n",
       "      <td>4</td>\n",
       "      <td>3.222832</td>\n",
       "      <td>63</td>\n",
       "      <td>0.000000</td>\n",
       "      <td>0.461435</td>\n",
       "      <td>4.942302</td>\n",
       "      <td>1</td>\n",
       "      <td>4</td>\n",
       "      <td>15</td>\n",
       "      <td>4</td>\n",
       "      <td>1</td>\n",
       "    </tr>\n",
       "    <tr>\n",
       "      <th>4</th>\n",
       "      <td>22461</td>\n",
       "      <td>80</td>\n",
       "      <td>0.822418</td>\n",
       "      <td>100</td>\n",
       "      <td>2.979995</td>\n",
       "      <td>4</td>\n",
       "      <td>3.983222</td>\n",
       "      <td>100</td>\n",
       "      <td>0.000000</td>\n",
       "      <td>1.002999</td>\n",
       "      <td>4.994452</td>\n",
       "      <td>1</td>\n",
       "      <td>1</td>\n",
       "      <td>15</td>\n",
       "      <td>4</td>\n",
       "      <td>0</td>\n",
       "    </tr>\n",
       "    <tr>\n",
       "      <th>...</th>\n",
       "      <td>...</td>\n",
       "      <td>...</td>\n",
       "      <td>...</td>\n",
       "      <td>...</td>\n",
       "      <td>...</td>\n",
       "      <td>...</td>\n",
       "      <td>...</td>\n",
       "      <td>...</td>\n",
       "      <td>...</td>\n",
       "      <td>...</td>\n",
       "      <td>...</td>\n",
       "      <td>...</td>\n",
       "      <td>...</td>\n",
       "      <td>...</td>\n",
       "      <td>...</td>\n",
       "      <td>...</td>\n",
       "    </tr>\n",
       "    <tr>\n",
       "      <th>2934812</th>\n",
       "      <td>56044</td>\n",
       "      <td>80</td>\n",
       "      <td>0.016992</td>\n",
       "      <td>100</td>\n",
       "      <td>4.082509</td>\n",
       "      <td>4</td>\n",
       "      <td>4.102515</td>\n",
       "      <td>100</td>\n",
       "      <td>0.000000</td>\n",
       "      <td>0.243473</td>\n",
       "      <td>4.124047</td>\n",
       "      <td>1</td>\n",
       "      <td>3</td>\n",
       "      <td>17</td>\n",
       "      <td>4</td>\n",
       "      <td>1</td>\n",
       "    </tr>\n",
       "    <tr>\n",
       "      <th>2934813</th>\n",
       "      <td>21546</td>\n",
       "      <td>80</td>\n",
       "      <td>1.922317</td>\n",
       "      <td>100</td>\n",
       "      <td>0.000000</td>\n",
       "      <td>4</td>\n",
       "      <td>2.718527</td>\n",
       "      <td>100</td>\n",
       "      <td>0.000000</td>\n",
       "      <td>0.490800</td>\n",
       "      <td>4.090534</td>\n",
       "      <td>1</td>\n",
       "      <td>4</td>\n",
       "      <td>15</td>\n",
       "      <td>4</td>\n",
       "      <td>0</td>\n",
       "    </tr>\n",
       "    <tr>\n",
       "      <th>2934814</th>\n",
       "      <td>30897</td>\n",
       "      <td>80</td>\n",
       "      <td>2.112228</td>\n",
       "      <td>100</td>\n",
       "      <td>0.000000</td>\n",
       "      <td>4</td>\n",
       "      <td>2.110766</td>\n",
       "      <td>100</td>\n",
       "      <td>0.000000</td>\n",
       "      <td>0.207444</td>\n",
       "      <td>4.332615</td>\n",
       "      <td>1</td>\n",
       "      <td>3</td>\n",
       "      <td>17</td>\n",
       "      <td>4</td>\n",
       "      <td>1</td>\n",
       "    </tr>\n",
       "    <tr>\n",
       "      <th>2934815</th>\n",
       "      <td>36904</td>\n",
       "      <td>80</td>\n",
       "      <td>0.000000</td>\n",
       "      <td>100</td>\n",
       "      <td>0.000000</td>\n",
       "      <td>3</td>\n",
       "      <td>0.000000</td>\n",
       "      <td>100</td>\n",
       "      <td>0.000000</td>\n",
       "      <td>0.162130</td>\n",
       "      <td>0.000000</td>\n",
       "      <td>1</td>\n",
       "      <td>1</td>\n",
       "      <td>20</td>\n",
       "      <td>3</td>\n",
       "      <td>1</td>\n",
       "    </tr>\n",
       "    <tr>\n",
       "      <th>2934816</th>\n",
       "      <td>14302</td>\n",
       "      <td>80</td>\n",
       "      <td>0.053820</td>\n",
       "      <td>100</td>\n",
       "      <td>0.064767</td>\n",
       "      <td>1</td>\n",
       "      <td>0.118588</td>\n",
       "      <td>100</td>\n",
       "      <td>0.038796</td>\n",
       "      <td>0.116388</td>\n",
       "      <td>0.172408</td>\n",
       "      <td>1</td>\n",
       "      <td>4</td>\n",
       "      <td>15</td>\n",
       "      <td>3</td>\n",
       "      <td>1</td>\n",
       "    </tr>\n",
       "  </tbody>\n",
       "</table>\n",
       "<p>2934752 rows × 16 columns</p>\n",
       "</div>\n",
       "      <button class=\"colab-df-convert\" onclick=\"convertToInteractive('df-8589dfe5-1390-4cc0-882e-445f56e90e15')\"\n",
       "              title=\"Convert this dataframe to an interactive table.\"\n",
       "              style=\"display:none;\">\n",
       "        \n",
       "  <svg xmlns=\"http://www.w3.org/2000/svg\" height=\"24px\"viewBox=\"0 0 24 24\"\n",
       "       width=\"24px\">\n",
       "    <path d=\"M0 0h24v24H0V0z\" fill=\"none\"/>\n",
       "    <path d=\"M18.56 5.44l.94 2.06.94-2.06 2.06-.94-2.06-.94-.94-2.06-.94 2.06-2.06.94zm-11 1L8.5 8.5l.94-2.06 2.06-.94-2.06-.94L8.5 2.5l-.94 2.06-2.06.94zm10 10l.94 2.06.94-2.06 2.06-.94-2.06-.94-.94-2.06-.94 2.06-2.06.94z\"/><path d=\"M17.41 7.96l-1.37-1.37c-.4-.4-.92-.59-1.43-.59-.52 0-1.04.2-1.43.59L10.3 9.45l-7.72 7.72c-.78.78-.78 2.05 0 2.83L4 21.41c.39.39.9.59 1.41.59.51 0 1.02-.2 1.41-.59l7.78-7.78 2.81-2.81c.8-.78.8-2.07 0-2.86zM5.41 20L4 18.59l7.72-7.72 1.47 1.35L5.41 20z\"/>\n",
       "  </svg>\n",
       "      </button>\n",
       "      \n",
       "  <style>\n",
       "    .colab-df-container {\n",
       "      display:flex;\n",
       "      flex-wrap:wrap;\n",
       "      gap: 12px;\n",
       "    }\n",
       "\n",
       "    .colab-df-convert {\n",
       "      background-color: #E8F0FE;\n",
       "      border: none;\n",
       "      border-radius: 50%;\n",
       "      cursor: pointer;\n",
       "      display: none;\n",
       "      fill: #1967D2;\n",
       "      height: 32px;\n",
       "      padding: 0 0 0 0;\n",
       "      width: 32px;\n",
       "    }\n",
       "\n",
       "    .colab-df-convert:hover {\n",
       "      background-color: #E2EBFA;\n",
       "      box-shadow: 0px 1px 2px rgba(60, 64, 67, 0.3), 0px 1px 3px 1px rgba(60, 64, 67, 0.15);\n",
       "      fill: #174EA6;\n",
       "    }\n",
       "\n",
       "    [theme=dark] .colab-df-convert {\n",
       "      background-color: #3B4455;\n",
       "      fill: #D2E3FC;\n",
       "    }\n",
       "\n",
       "    [theme=dark] .colab-df-convert:hover {\n",
       "      background-color: #434B5C;\n",
       "      box-shadow: 0px 1px 3px 1px rgba(0, 0, 0, 0.15);\n",
       "      filter: drop-shadow(0px 1px 2px rgba(0, 0, 0, 0.3));\n",
       "      fill: #FFFFFF;\n",
       "    }\n",
       "  </style>\n",
       "\n",
       "      <script>\n",
       "        const buttonEl =\n",
       "          document.querySelector('#df-8589dfe5-1390-4cc0-882e-445f56e90e15 button.colab-df-convert');\n",
       "        buttonEl.style.display =\n",
       "          google.colab.kernel.accessAllowed ? 'block' : 'none';\n",
       "\n",
       "        async function convertToInteractive(key) {\n",
       "          const element = document.querySelector('#df-8589dfe5-1390-4cc0-882e-445f56e90e15');\n",
       "          const dataTable =\n",
       "            await google.colab.kernel.invokeFunction('convertToInteractive',\n",
       "                                                     [key], {});\n",
       "          if (!dataTable) return;\n",
       "\n",
       "          const docLinkHtml = 'Like what you see? Visit the ' +\n",
       "            '<a target=\"_blank\" href=https://colab.research.google.com/notebooks/data_table.ipynb>data table notebook</a>'\n",
       "            + ' to learn more about interactive tables.';\n",
       "          element.innerHTML = '';\n",
       "          dataTable['output_type'] = 'display_data';\n",
       "          await google.colab.output.renderOutput(dataTable, element);\n",
       "          const docLink = document.createElement('div');\n",
       "          docLink.innerHTML = docLinkHtml;\n",
       "          element.appendChild(docLink);\n",
       "        }\n",
       "      </script>\n",
       "    </div>\n",
       "  </div>\n",
       "  "
      ],
      "text/plain": [
       "         sport  dport    stddev  N_IN_Conn_P_SrcIP       min  state_number  \\\n",
       "0         6551     80  1.900363                100  0.000000             4   \n",
       "1         5532     80  0.078003                 38  3.856930             3   \n",
       "2        27165     80  0.268666                100  2.974100             3   \n",
       "3        48719     80  1.823185                 63  0.000000             4   \n",
       "4        22461     80  0.822418                100  2.979995             4   \n",
       "...        ...    ...       ...                ...       ...           ...   \n",
       "2934812  56044     80  0.016992                100  4.082509             4   \n",
       "2934813  21546     80  1.922317                100  0.000000             4   \n",
       "2934814  30897     80  2.112228                100  0.000000             4   \n",
       "2934815  36904     80  0.000000                100  0.000000             3   \n",
       "2934816  14302     80  0.053820                100  0.064767             1   \n",
       "\n",
       "             mean  N_IN_Conn_P_DstIP     drate     srate       max  attack  \\\n",
       "0        2.687519                100  0.000000  0.494549  4.031619       1   \n",
       "1        3.934927                100  0.000000  0.256493  4.012924       1   \n",
       "2        3.341429                100  0.000000  0.294880  3.609205       1   \n",
       "3        3.222832                 63  0.000000  0.461435  4.942302       1   \n",
       "4        3.983222                100  0.000000  1.002999  4.994452       1   \n",
       "...           ...                ...       ...       ...       ...     ...   \n",
       "2934812  4.102515                100  0.000000  0.243473  4.124047       1   \n",
       "2934813  2.718527                100  0.000000  0.490800  4.090534       1   \n",
       "2934814  2.110766                100  0.000000  0.207444  4.332615       1   \n",
       "2934815  0.000000                100  0.000000  0.162130  0.000000       1   \n",
       "2934816  0.118588                100  0.038796  0.116388  0.172408       1   \n",
       "\n",
       "         saddr_enc  daddr_enc  proto_enc  category_enc  \n",
       "0                4         15          4             0  \n",
       "1                4         15          3             0  \n",
       "2                1         15          3             0  \n",
       "3                4         15          4             1  \n",
       "4                1         15          4             0  \n",
       "...            ...        ...        ...           ...  \n",
       "2934812          3         17          4             1  \n",
       "2934813          4         15          4             0  \n",
       "2934814          3         17          4             1  \n",
       "2934815          1         20          3             1  \n",
       "2934816          4         15          3             1  \n",
       "\n",
       "[2934752 rows x 16 columns]"
      ]
     },
     "execution_count": 33,
     "metadata": {},
     "output_type": "execute_result"
    }
   ],
   "source": [
    "data_train"
   ]
  },
  {
   "cell_type": "code",
   "execution_count": null,
   "id": "d5b6c4d4",
   "metadata": {
    "id": "d5b6c4d4"
   },
   "outputs": [],
   "source": [
    "import numpy as np\n",
    "import pandas as pd\n",
    "from sklearn.model_selection import train_test_split\n",
    "from sklearn.preprocessing import StandardScaler\n",
    "from sklearn.metrics import accuracy_score\n",
    "from keras.models import Sequential\n",
    "from keras.layers import Conv2D, MaxPooling2D, Flatten, Dense"
   ]
  },
  {
   "cell_type": "code",
   "execution_count": null,
   "id": "5d1862db",
   "metadata": {
    "colab": {
     "base_uri": "https://localhost:8080/"
    },
    "id": "5d1862db",
    "outputId": "f6763d1b-2bc3-409f-82da-7a4303d0c204"
   },
   "outputs": [
    {
     "data": {
      "text/plain": [
       "15"
      ]
     },
     "execution_count": 34,
     "metadata": {},
     "output_type": "execute_result"
    }
   ],
   "source": [
    "X_train.shape[1]"
   ]
  },
  {
   "cell_type": "code",
   "execution_count": null,
   "id": "bf54467c",
   "metadata": {
    "colab": {
     "base_uri": "https://localhost:8080/"
    },
    "id": "bf54467c",
    "outputId": "501bf451-5576-437d-b9fa-5d742e4e5dbc"
   },
   "outputs": [
    {
     "name": "stdout",
     "output_type": "stream",
     "text": [
      "(15, 1, 1)\n"
     ]
    }
   ],
   "source": [
    "input_shape=(X_train.shape[1], 1, 1)\n",
    "print(input_shape)"
   ]
  },
  {
   "cell_type": "code",
   "execution_count": null,
   "id": "9240b101",
   "metadata": {
    "id": "9240b101"
   },
   "outputs": [],
   "source": [
    "\n",
    "\n",
    "X_train, y_train = data_train.drop(['category_enc'], axis=1), data_train['category_enc']\n",
    "X_test, y_test = data_test.drop(['category_enc'], axis=1), data_test['category_enc']\n"
   ]
  },
  {
   "cell_type": "code",
   "execution_count": null,
   "id": "0213ef66",
   "metadata": {
    "id": "0213ef66"
   },
   "outputs": [],
   "source": [
    "# Scale the data\n",
    "scaler = StandardScaler()\n",
    "X_train = scaler.fit_transform(X_train)\n",
    "X_test = scaler.transform(X_test)\n",
    "\n",
    "# Reshape the data for CNN\n",
    "X_train = X_train.reshape(X_train.shape[0], X_train.shape[1], 1, 1)\n",
    "X_test = X_test.reshape(X_test.shape[0], X_test.shape[1], 1, 1)\n",
    "\n",
    "# Build the CNN model\n",
    "model = Sequential()\n",
    "model.add(Conv2D(filters=32, kernel_size=(1, 1), activation='relu', input_shape=(X_train.shape[1], 1, 1)))\n",
    "model.add(MaxPooling2D(pool_size=(1, 1)))\n",
    "model.add(Conv2D(filters=64, kernel_size=(1, 1), activation='relu'))\n",
    "model.add(MaxPooling2D(pool_size=(1, 1)))\n",
    "model.add(Flatten())\n",
    "model.add(Dense(units=64, activation='relu'))\n",
    "model.add(Dense(units=1, activation='sigmoid'))\n"
   ]
  },
  {
   "cell_type": "code",
   "execution_count": null,
   "id": "5cbe2132",
   "metadata": {
    "id": "5cbe2132"
   },
   "outputs": [],
   "source": []
  },
  {
   "cell_type": "code",
   "execution_count": null,
   "id": "efa6bdb2",
   "metadata": {
    "colab": {
     "base_uri": "https://localhost:8080/"
    },
    "id": "efa6bdb2",
    "outputId": "075f1545-68ce-43db-edc4-540bb4d63813"
   },
   "outputs": [
    {
     "name": "stdout",
     "output_type": "stream",
     "text": [
      "Epoch 1/2\n",
      "91711/91711 [==============================] - 301s 3ms/step - loss: -6881644544.0000 - accuracy: 0.9176\n",
      "Epoch 2/2\n",
      "91711/91711 [==============================] - 304s 3ms/step - loss: -177050681344.0000 - accuracy: 0.9187\n"
     ]
    },
    {
     "data": {
      "text/plain": [
       "<keras.callbacks.History at 0x7ff052c4a0a0>"
      ]
     },
     "execution_count": 41,
     "metadata": {},
     "output_type": "execute_result"
    }
   ],
   "source": [
    "model.fit(X_train, y_train, batch_size=32, epochs=2, verbose=1)"
   ]
  },
  {
   "cell_type": "code",
   "execution_count": null,
   "id": "85b3580c",
   "metadata": {
    "id": "85b3580c"
   },
   "outputs": [],
   "source": [
    "# Compile the model\n",
    "model.compile(optimizer='adam', loss='binary_crossentropy', metrics=['accuracy'])"
   ]
  },
  {
   "cell_type": "code",
   "execution_count": null,
   "id": "ee4c986d",
   "metadata": {
    "colab": {
     "base_uri": "https://localhost:8080/"
    },
    "id": "ee4c986d",
    "outputId": "19b95c0c-800d-4fca-9015-a23a5059acc4"
   },
   "outputs": [
    {
     "name": "stdout",
     "output_type": "stream",
     "text": [
      "22929/22929 [==============================] - 31s 1ms/step\n",
      "Accuracy: 52.52%\n"
     ]
    }
   ],
   "source": [
    "y_probs = model.predict(X_test)\n",
    "\n",
    "# Convert class probabilities to predicted classes\n",
    "y_pred = y_probs.argmax(axis=-1)\n",
    "\n",
    "# Calculate accuracy\n",
    "accuracy = accuracy_score(y_test, y_pred)\n",
    "print(\"Accuracy: {:.2f}%\".format(accuracy * 100))"
   ]
  },
  {
   "cell_type": "markdown",
   "id": "729UzQSQ2zan",
   "metadata": {
    "id": "729UzQSQ2zan"
   },
   "source": [
    "Hybrid Model(CNN+RNN)"
   ]
  },
  {
   "cell_type": "code",
   "execution_count": null,
   "id": "1f106886",
   "metadata": {
    "id": "1f106886"
   },
   "outputs": [],
   "source": []
  },
  {
   "cell_type": "code",
   "execution_count": null,
   "id": "88aa2c97",
   "metadata": {
    "id": "88aa2c97"
   },
   "outputs": [],
   "source": [
    "import numpy as np\n",
    "import pandas as pd\n",
    "from sklearn.model_selection import train_test_split\n",
    "from sklearn.preprocessing import LabelEncoder\n",
    "from keras.layers import Dense, Embedding, Conv1D, MaxPooling1D, LSTM, concatenate\n",
    "from keras.models import Sequential\n",
    "from keras.optimizers import Adam"
   ]
  },
  {
   "cell_type": "code",
   "execution_count": null,
   "id": "d8e76519",
   "metadata": {
    "id": "d8e76519"
   },
   "outputs": [],
   "source": [
    "# Define CNN model\n",
    "cnn_model = Sequential()\n",
    "cnn_model.add(Embedding(1000, 32, input_length=X_train.shape[1]))\n",
    "cnn_model.add(Conv1D(filters=64, kernel_size=3, activation='relu'))\n",
    "cnn_model.add(MaxPooling1D(pool_size=2))\n",
    "cnn_model.add(Dense(64, activation='relu'))\n"
   ]
  },
  {
   "cell_type": "code",
   "execution_count": null,
   "id": "16ac57d6",
   "metadata": {
    "id": "16ac57d6"
   },
   "outputs": [],
   "source": [
    "# Define RNN model\n",
    "rnn_model = Sequential()\n",
    "rnn_model.add(Embedding(1000, 32, input_length=X_train.shape[1]))\n",
    "rnn_model.add(LSTM(64, return_sequences=True))\n",
    "rnn_model.add(LSTM(64))\n",
    "rnn_model.add(Dense(64, activation='relu'))\n"
   ]
  },
  {
   "cell_type": "code",
   "execution_count": null,
   "id": "75521df9",
   "metadata": {
    "id": "75521df9"
   },
   "outputs": [],
   "source": [
    "from keras.layers import concatenate, Dense, Reshape\n",
    "from keras.models import Model\n",
    "\n",
    "# Assuming cnn_model and rnn_model are already defined\n",
    "\n",
    "# Reshape rnn_model output to match cnn_model output shape\n",
    "rnn_output_reshaped = Reshape((1,64))(rnn_model.output)  # Reshape to match cnn_model output shape\n",
    "\n",
    "# Concatenate cnn_model and rnn_model outputs\n",
    "merged_model = concatenate([cnn_model.output, rnn_output_reshaped], axis=1)  # Concatenate along axis=1\n",
    "\n",
    "# Add additional layers to the merged model\n",
    "merged_model = Dense(64, activation='relu')(merged_model)\n",
    "merged_model = Dense(1, activation='sigmoid')(merged_model)\n",
    "\n",
    "# Create the final merged model\n",
    "merged_model = Model(inputs=[cnn_model.input, rnn_model.input], outputs=merged_model)\n"
   ]
  },
  {
   "cell_type": "code",
   "execution_count": null,
   "id": "8bc2a110",
   "metadata": {
    "colab": {
     "base_uri": "https://localhost:8080/"
    },
    "id": "8bc2a110",
    "outputId": "64bb2bcd-9870-49c3-a373-262413174bd2"
   },
   "outputs": [
    {
     "name": "stderr",
     "output_type": "stream",
     "text": [
      "/usr/local/lib/python3.9/dist-packages/keras/optimizers/legacy/adam.py:117: UserWarning: The `lr` argument is deprecated, use `learning_rate` instead.\n",
      "  super().__init__(name, **kwargs)\n"
     ]
    },
    {
     "name": "stdout",
     "output_type": "stream",
     "text": [
      "Epoch 1/2\n"
     ]
    },
    {
     "name": "stderr",
     "output_type": "stream",
     "text": [
      "WARNING:tensorflow:Layers in a Sequential model should only have a single input tensor. Received: inputs=(<tf.Tensor 'IteratorGetNext:0' shape=(32, 15) dtype=float64>, <tf.Tensor 'IteratorGetNext:1' shape=(32, 15) dtype=float64>). Consider rewriting this model with the Functional API.\n",
      "WARNING:tensorflow:Layers in a Sequential model should only have a single input tensor. Received: inputs=(<tf.Tensor 'IteratorGetNext:0' shape=(32, 15) dtype=float64>, <tf.Tensor 'IteratorGetNext:1' shape=(32, 15) dtype=float64>). Consider rewriting this model with the Functional API.\n"
     ]
    },
    {
     "name": "stdout",
     "output_type": "stream",
     "text": [
      "91708/91711 [============================>.] - ETA: 0s - loss: 14.5017 - output_1_loss: 7.2509 - output_2_loss: 7.2509 - output_1_accuracy: 0.5238 - output_2_accuracy: 0.5238"
     ]
    },
    {
     "name": "stderr",
     "output_type": "stream",
     "text": [
      "WARNING:tensorflow:Layers in a Sequential model should only have a single input tensor. Received: inputs=(<tf.Tensor 'IteratorGetNext:0' shape=(None, 15) dtype=float64>, <tf.Tensor 'IteratorGetNext:1' shape=(None, 15) dtype=float64>). Consider rewriting this model with the Functional API.\n"
     ]
    },
    {
     "name": "stdout",
     "output_type": "stream",
     "text": [
      "\b\b\b\b\b\b\b\b\b\b\b\b\b\b\b\b\b\b\b\b\b\b\b\b\b\b\b\b\b\b\b\b\b\b\b\b\b\b\b\b\b\b\b\b\b\b\b\b\b\b\b\b\b\b\b\b\b\b\b\b\b\b\b\b\b\b\b\b\b\b\b\b\b\b\b\b\b\b\b\b\b\b\b\b\b\b\b\b\b\b\b\b\b\b\b\b\b\b\b\b\b\b\b\b\b\b\b\b\b\b\b\b\b\b\b\b\b\b\b\b\b\b\b\b\b\b\b\b\b\b\b\b\b\b\b\b\b\b\b\b\b\b\b\b\b\b\b\b\b\b\b\b\b\b\b\b\b\b\b\b\b\b\b\b\b\b\b\b\b\b\b\b\b\b\r",
      "91711/91711 [==============================] - 137s 1ms/step - loss: 14.5017 - output_1_loss: 7.2508 - output_2_loss: 7.2508 - output_1_accuracy: 0.5238 - output_2_accuracy: 0.5238 - val_loss: 14.5052 - val_output_1_loss: 7.2526 - val_output_2_loss: 7.2526 - val_output_1_accuracy: 0.5238 - val_output_2_accuracy: 0.5238\n",
      "Epoch 2/2\n",
      "91711/91711 [==============================] - 136s 1ms/step - loss: 14.5016 - output_1_loss: 7.2508 - output_2_loss: 7.2508 - output_1_accuracy: 0.5238 - output_2_accuracy: 0.5238 - val_loss: 14.5052 - val_output_1_loss: 7.2526 - val_output_2_loss: 7.2526 - val_output_1_accuracy: 0.5238 - val_output_2_accuracy: 0.5238\n"
     ]
    },
    {
     "data": {
      "text/plain": [
       "<keras.callbacks.History at 0x7f62e4ea8370>"
      ]
     },
     "execution_count": 19,
     "metadata": {},
     "output_type": "execute_result"
    }
   ],
   "source": [
    "import tensorflow as tf\n",
    "model = tf.keras.Sequential()\n",
    "# Compile the model\n",
    "model.compile(optimizer=Adam(lr=0.09), loss='binary_crossentropy', metrics=['accuracy'])\n",
    "#(lr=0.001)\n",
    "# Train the hybrid learning model\n",
    "model.fit([X_train, X_train], y_train, batch_size=32, epochs=2, validation_data=([X_test, X_test], y_test))"
   ]
  },
  {
   "cell_type": "code",
   "execution_count": null,
   "id": "42a1f5ee",
   "metadata": {
    "id": "42a1f5ee"
   },
   "outputs": [],
   "source": []
  }
 ],
 "metadata": {
  "colab": {
   "provenance": []
  },
  "kernelspec": {
   "display_name": "Python 3",
   "language": "python",
   "name": "python3"
  },
  "language_info": {
   "codemirror_mode": {
    "name": "ipython",
    "version": 3
   },
   "file_extension": ".py",
   "mimetype": "text/x-python",
   "name": "python",
   "nbconvert_exporter": "python",
   "pygments_lexer": "ipython3",
   "version": "3.8.8"
  }
 },
 "nbformat": 4,
 "nbformat_minor": 5
}
